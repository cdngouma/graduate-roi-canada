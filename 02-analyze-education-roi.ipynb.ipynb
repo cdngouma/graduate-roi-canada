{
 "cells": [
  {
   "cell_type": "markdown",
   "id": "284992c9-7e12-49d7-b87f-67d4bac60dad",
   "metadata": {},
   "source": [
    "# Education ROI and Graduate Outcomes Analysis in Canada\n",
    "This analysis explores the return on investment (ROI) of postsecondary education in Canada by field of study, integrating education, income, and labour market data. Our goal is to mainly inform students about the long-term value of different educational paths at undergraduate level—helping them to make data-driven decisions about their fututre. Additionally, the analys would offer insights for policymakers to align educational offerings with labour market demand.\n",
    "\n",
    "We aim to answer key questions:\n",
    "* Which fields offer the best financial return relative to tuition?\n",
    "* Are some fields oversaturated with graduates relative to employment opportunities?\n",
    "* Do tuition costs reflect real-world outcomes like income or job stability?\n",
    "\n",
    "Ultimately, this project would help identify high-value programs, highlight potential risks (like education bubbles), and support better policy and personal decision-making."
   ]
  },
  {
   "cell_type": "code",
   "execution_count": 1,
   "id": "ed701d5a-a857-44c7-abac-1cef5adcf09d",
   "metadata": {},
   "outputs": [
    {
     "data": {
      "text/plain": [
       "<module 'visuals.plots' from 'C:\\\\Users\\\\ngoum\\\\Documents\\\\coding\\\\data_projects\\\\graduate-roi-canada\\\\visuals\\\\plots.py'>"
      ]
     },
     "execution_count": 1,
     "metadata": {},
     "output_type": "execute_result"
    }
   ],
   "source": [
    "import pandas as pd\n",
    "import numpy as np\n",
    "from visuals import plots\n",
    "\n",
    "import importlib\n",
    "importlib.reload(plots)"
   ]
  },
  {
   "cell_type": "markdown",
   "id": "2f4178ce-1bc0-4c01-8989-6730cde98489",
   "metadata": {},
   "source": [
    "## 1. Load Datasets and Merge Datasets"
   ]
  },
  {
   "cell_type": "code",
   "execution_count": 2,
   "id": "eeaf4e6b-4ce2-42b9-ba00-7d5fc8d4dfc7",
   "metadata": {},
   "outputs": [],
   "source": [
    "ed_outcomes_data = pd.read_csv(\"data/postsecondary_field_outcomes.csv\")"
   ]
  },
  {
   "cell_type": "code",
   "execution_count": 3,
   "id": "faf04e2c-9aef-4596-aff2-0164e83f2134",
   "metadata": {},
   "outputs": [],
   "source": [
    "labour_snapshots = pd.read_csv(\"data/labour_market_snapshot.csv\")"
   ]
  },
  {
   "cell_type": "markdown",
   "id": "71f92916-9ea3-442d-8bed-f85bfd2bcd7b",
   "metadata": {},
   "source": [
    "Merge Datasets"
   ]
  },
  {
   "cell_type": "code",
   "execution_count": 4,
   "id": "f7e07799-079f-4b4b-a70d-1093cf3e424f",
   "metadata": {},
   "outputs": [],
   "source": [
    "ed_outcomes_data = ed_outcomes_data.rename(columns={\n",
    "    \"Nearest Census Year\": \"Census Year\"\n",
    "})"
   ]
  },
  {
   "cell_type": "code",
   "execution_count": 5,
   "id": "6b89f825-18f2-4718-8558-ba2a8b408e45",
   "metadata": {},
   "outputs": [],
   "source": [
    "data = ed_outcomes_data.merge(\n",
    "    labour_snapshots,\n",
    "    on=[\"Field of study\", \"Census Year\"],\n",
    "    how=\"left\"\n",
    ")"
   ]
  },
  {
   "cell_type": "markdown",
   "id": "3339b69d-04b5-4a1a-babc-2a05a72af125",
   "metadata": {},
   "source": [
    "We concentrate on undergraduate education, as this is the level at which most individuals make critical decisions about field of study, and where questions around the return on investment (ROI) in education are most common. Additionally, the majority of the population does not pursue graduate studies, making undergraduate outcomes the most broadly relevant."
   ]
  },
  {
   "cell_type": "code",
   "execution_count": 6,
   "id": "f628d1f9-c95f-4a8f-8306-078481c71296",
   "metadata": {},
   "outputs": [],
   "source": [
    "data = data[data[\"Education Level Group\"] == \"Undergraduate\"]"
   ]
  },
  {
   "cell_type": "markdown",
   "id": "9f51ce48-ae5a-4bf3-a547-0ff13bac0889",
   "metadata": {},
   "source": [
    "To accurately calculate ROI, we need a realistic estimate of the total cost of an undergraduate degree. Instead of using a single semester’s tuition, we computed a 4-year rolling sum per field of study to reflect the full tuition paid over a typical program. This provides a more accurate and meaningful measure of educational investment."
   ]
  },
  {
   "cell_type": "code",
   "execution_count": 7,
   "id": "6746c94e-e3e5-495c-8ddd-a4cc5550bc0c",
   "metadata": {},
   "outputs": [],
   "source": [
    "data = data.sort_values([\"Field of study\", \"Year\"])"
   ]
  },
  {
   "cell_type": "code",
   "execution_count": 8,
   "id": "9c181079-2743-4ef9-b333-2e09cbb07249",
   "metadata": {},
   "outputs": [],
   "source": [
    "# Compute annual tuition\n",
    "annual_tuition = data[\"Tuition\"] * 2\n",
    "\n",
    "# Compute cummulative tuition cost over 4 years\n",
    "data[\"Tuition (4Y)\"] = (\n",
    "    data.groupby(\"Field of study\")[\"Tuition\"]\n",
    "        .rolling(window=4, min_periods=4)\n",
    "        .sum()\n",
    "        .reset_index(level=0, drop=True)\n",
    ")"
   ]
  },
  {
   "cell_type": "markdown",
   "id": "48e0412b-945f-4a43-b3ac-b9432f09d793",
   "metadata": {},
   "source": [
    "Our primary analysis focuses on the period from 2012 to 2022, aligning with the most recent available census labour force data and median income statistics. "
   ]
  },
  {
   "cell_type": "code",
   "execution_count": 9,
   "id": "211278c1-968f-4dc0-819f-fd15663ee8fa",
   "metadata": {},
   "outputs": [],
   "source": [
    "data = data[data[\"Year\"].between(2012,2022)]"
   ]
  },
  {
   "cell_type": "markdown",
   "id": "4afeddd8-fa85-4c3d-a23c-f75d7af7e40b",
   "metadata": {},
   "source": [
    "For easy visualization, we simplify or abbreviate the fields of studies names"
   ]
  },
  {
   "cell_type": "code",
   "execution_count": 10,
   "id": "e269ecbd-37bc-4aae-9d54-50254e9b34ae",
   "metadata": {},
   "outputs": [],
   "source": [
    "field_name_mapping = {\n",
    "    'Architecture & Engineering': 'Arch & Eng',\n",
    "    'Arts and Humanities': 'Arts & Hum',\n",
    "    'Business & Public Admin': 'Bus & Admin',\n",
    "    'Education': 'Education',\n",
    "    'Health': 'Health',\n",
    "    'Mathematics & CIS': 'Math & CIS',\n",
    "    'Social Sciences and Law': 'SocSci & Law'\n",
    "}\n",
    "\n",
    "data[\"Field (Long)\"] = data[\"Field of study\"].copy()\n",
    "data[\"Field of study\"] = data[\"Field of study\"].map(field_name_mapping)"
   ]
  },
  {
   "cell_type": "markdown",
   "id": "23c30404-c427-4a24-9386-932f89cd058a",
   "metadata": {},
   "source": [
    "## 2. Compute Derived Metrics\n",
    "To evaluate the value and labour outcomes of each field of study, we compute a series of derived metrics. These indicators capture the relationship between tuition costs, graduate numbers, employment statistics, and income, allowing us to assess ROI, market saturation, and growth trends across disciplines.\n",
    "\n",
    "| Metric                  | Definition                         | Why It Matters                              |\n",
    "|-------------------------|------------------------------------|---------------------------------------------|\n",
    "| ROI                     | Median Income ÷ Cumulative Tuition | Core value proposition for students         |\n",
    "| Tuition per $10K Income | Tuition ÷ (Income / 10,000)        | Measures affordability and return           |\n",
    "| Saturation Index        | Grads ÷ Estimated Employed         | Identifies fields with potential oversupply |\n",
    "| Graduate Share          | % of grads by field                | Reveals popularity and education trends     |\n",
    "| Graduate Growth Rate    | Year-over-year % change            | Tracks student demand over time             |\n",
    "| Tuition Inflation       | Year-over-year tuition change      | Flags rising costs for students             |\n",
    "| Employment Stability Index | Employment rate ÷ Participation rate | Measures employment stability and security |"
   ]
  },
  {
   "cell_type": "markdown",
   "id": "5d75ff07-0bb7-49e7-abd3-d55a87d8c3fb",
   "metadata": {},
   "source": [
    "#### ROI (Return on Investment)\n",
    "Measures return on investment for education — how much income is earned per tuition dollar. A higher ROI indicates better returns on educational investment. This metric is a proxy for [Cost-Benefit Analysis (CBA)](https://en.wikipedia.org/wiki/Cost%E2%80%93benefit_analysis)."
   ]
  },
  {
   "cell_type": "code",
   "execution_count": 11,
   "id": "5d960c1a-3518-4f8e-8739-7893b93616de",
   "metadata": {},
   "outputs": [],
   "source": [
    "data[\"ROI\"] = np.nan\n",
    "data[\"ROI\"] = data[\"Median income\"] / data[\"Tuition (4Y)\"]"
   ]
  },
  {
   "cell_type": "markdown",
   "id": "a6f84878-e5aa-4ecd-92fb-032f7a4a78e7",
   "metadata": {},
   "source": [
    "#### Saturation Index (Grads / Employed)\n",
    "The Saturation Index is a proxy for labour market crowding. It estimates how saturated a field is with recent graduates compared to the number of jobs currently held in that field. A high value may suggest oversaturation.\n",
    "\n",
    "We define the Saturation Index as the ratio of recent graduates to the estimated total number of employed individuals in a given field. Since the employment data is based on 25% of the census, we scale it by a factor of 4 to estimate full-population employment.\n",
    "\n",
    "`Saturation Index = Grads (5Y) / (Employed (25%) × 4)`"
   ]
  },
  {
   "cell_type": "code",
   "execution_count": 12,
   "id": "2a606342-3800-4002-920c-06d9de38d924",
   "metadata": {},
   "outputs": [],
   "source": [
    "data[\"Saturation Index\"] = data[\"Graduates (5Y)\"] / (data[\"Employed (25%)\"] * 4)"
   ]
  },
  {
   "cell_type": "markdown",
   "id": "9465ec21-0a28-410a-87fb-f08bb42d19fd",
   "metadata": {},
   "source": [
    "#### Graduate Share (%)\n",
    "Shows what portion of total graduates (in a year) each field contributes. Highlights dominant vs niche fields in education supply."
   ]
  },
  {
   "cell_type": "code",
   "execution_count": 13,
   "id": "471fb778-4215-4272-ae9f-222447aab68b",
   "metadata": {},
   "outputs": [],
   "source": [
    "data[\"Graduate Share (%)\"] = data[\"Graduates\"] / data.groupby(\"Year\")[\"Graduates\"].transform(\"sum\") * 100"
   ]
  },
  {
   "cell_type": "markdown",
   "id": "10a80771-9f34-4cb4-87a3-eb7d2cf524de",
   "metadata": {},
   "source": [
    "#### Graduate Growth Rate\n",
    "Tracks year-over-year change in the number of graduates per fields. This highlights emerging or shrinking academic fields. High growth + low ROI can indicate a “bubble,” while low growth + high ROI may signal underinvestment."
   ]
  },
  {
   "cell_type": "code",
   "execution_count": 14,
   "id": "3b36fc77-54ea-412e-8da0-a80269164013",
   "metadata": {},
   "outputs": [],
   "source": [
    "data[\"Graduate Growth Rate (%)\"] = data.groupby(\"Field of study\")[\"Graduates\"].pct_change() * 100"
   ]
  },
  {
   "cell_type": "markdown",
   "id": "9850df00-48c7-4fda-9f46-c65c7dfb35a1",
   "metadata": {},
   "source": [
    "#### Tuition Growth/Inflation (%)\n",
    "Tracks affordability over time. High growth erodes ROI unless income increases faster. This metric is tracked by Statistics Canada, OECD, and institutional budget planning."
   ]
  },
  {
   "cell_type": "code",
   "execution_count": 15,
   "id": "b1646e35-3781-4a5a-b271-27339140e5ca",
   "metadata": {},
   "outputs": [],
   "source": [
    "data[\"Tuition Inflation (%)\"] = data.groupby(\"Field of study\")[\"Tuition\"].pct_change() * 100"
   ]
  },
  {
   "cell_type": "markdown",
   "id": "97210dc3-7bef-446c-9cdf-c1781c3eade0",
   "metadata": {},
   "source": [
    "#### Employment Stability Index (ESI)\n",
    "The Employment Stability Index (ESI) is a quick indicator of how stable and secure employment is for graduates of a particular field. A higher ESI means graduates are more likely to be employed and less likely to face joblessness. It reflects both job availability and resilience to unemployment.\n",
    "* ESI ≈ 1.0 → Nearly everyone in the labor force has a job (very stable)\n",
    "* ESI < 0.9 → A growing portion of the labor force is unemployed (less stable)"
   ]
  },
  {
   "cell_type": "code",
   "execution_count": 16,
   "id": "0644fa7c-2189-4b64-a700-7894d3bbc551",
   "metadata": {},
   "outputs": [],
   "source": [
    "data[\"ESI\"] = data[\"Employment rate\"] / (data[\"Participation rate\"] + 1e-8)"
   ]
  },
  {
   "cell_type": "code",
   "execution_count": 17,
   "id": "117eb3e4-94bf-48e2-9978-47ba54ae6a27",
   "metadata": {},
   "outputs": [
    {
     "data": {
      "text/plain": [
       "'ESI range: 0.896 - 0.971'"
      ]
     },
     "execution_count": 17,
     "metadata": {},
     "output_type": "execute_result"
    }
   ],
   "source": [
    "f'ESI range: {data[\"ESI\"].min():.3f} - {data[\"ESI\"].max():.3f}'"
   ]
  },
  {
   "cell_type": "code",
   "execution_count": 18,
   "id": "e2f17d94-95b4-473c-a3c0-7847671a4a6a",
   "metadata": {},
   "outputs": [
    {
     "name": "stdout",
     "output_type": "stream",
     "text": [
      "<class 'pandas.core.frame.DataFrame'>\n",
      "Index: 77 entries, 36 to 480\n",
      "Data columns (total 21 columns):\n",
      " #   Column                    Non-Null Count  Dtype  \n",
      "---  ------                    --------------  -----  \n",
      " 0   Year                      77 non-null     int64  \n",
      " 1   Census Year               77 non-null     int64  \n",
      " 2   Field of study            77 non-null     object \n",
      " 3   Education                 77 non-null     object \n",
      " 4   Education Level Group     77 non-null     object \n",
      " 5   Graduates                 77 non-null     float64\n",
      " 6   Graduates (5Y)            77 non-null     float64\n",
      " 7   Tuition                   77 non-null     float64\n",
      " 8   Median income             77 non-null     float64\n",
      " 9   Participation rate        77 non-null     float64\n",
      " 10  Employment rate           77 non-null     float64\n",
      " 11  Unemployment rate         77 non-null     float64\n",
      " 12  Employed (25%)            77 non-null     float64\n",
      " 13  Tuition (4Y)              77 non-null     float64\n",
      " 14  Field (Long)              77 non-null     object \n",
      " 15  ROI                       77 non-null     float64\n",
      " 16  Saturation Index          77 non-null     float64\n",
      " 17  Graduate Share (%)        77 non-null     float64\n",
      " 18  Graduate Growth Rate (%)  70 non-null     float64\n",
      " 19  Tuition Inflation (%)     70 non-null     float64\n",
      " 20  ESI                       77 non-null     float64\n",
      "dtypes: float64(15), int64(2), object(4)\n",
      "memory usage: 13.2+ KB\n"
     ]
    }
   ],
   "source": [
    "data.info()"
   ]
  },
  {
   "cell_type": "markdown",
   "id": "1f5149f1-9fdc-4249-8eb4-d9ed06901017",
   "metadata": {},
   "source": [
    "## 3. Data Analysis"
   ]
  },
  {
   "cell_type": "markdown",
   "id": "a2906674-84ba-4226-bf8c-d0ef006e43e9",
   "metadata": {},
   "source": [
    "### 3.1. Descriptive Statistics"
   ]
  },
  {
   "cell_type": "code",
   "execution_count": 19,
   "id": "f17c3461-6935-4f18-8c48-564d30ca136a",
   "metadata": {},
   "outputs": [],
   "source": [
    "ignored_cols = [\"Field of study\", \"Census Year\", \"Education\"]"
   ]
  },
  {
   "cell_type": "code",
   "execution_count": 20,
   "id": "5d195fbf-5609-412e-9ded-4b20553e0067",
   "metadata": {},
   "outputs": [
    {
     "data": {
      "text/html": [
       "<div>\n",
       "<style scoped>\n",
       "    .dataframe tbody tr th:only-of-type {\n",
       "        vertical-align: middle;\n",
       "    }\n",
       "\n",
       "    .dataframe tbody tr th {\n",
       "        vertical-align: top;\n",
       "    }\n",
       "\n",
       "    .dataframe thead th {\n",
       "        text-align: right;\n",
       "    }\n",
       "</style>\n",
       "<table border=\"1\" class=\"dataframe\">\n",
       "  <thead>\n",
       "    <tr style=\"text-align: right;\">\n",
       "      <th></th>\n",
       "      <th>Year</th>\n",
       "      <th>Graduates</th>\n",
       "      <th>Graduates (5Y)</th>\n",
       "      <th>Tuition</th>\n",
       "      <th>Median income</th>\n",
       "      <th>Participation rate</th>\n",
       "      <th>Employment rate</th>\n",
       "      <th>Unemployment rate</th>\n",
       "      <th>Employed (25%)</th>\n",
       "      <th>Tuition (4Y)</th>\n",
       "      <th>ROI</th>\n",
       "      <th>Saturation Index</th>\n",
       "      <th>Graduate Share (%)</th>\n",
       "      <th>Graduate Growth Rate (%)</th>\n",
       "      <th>Tuition Inflation (%)</th>\n",
       "      <th>ESI</th>\n",
       "    </tr>\n",
       "  </thead>\n",
       "  <tbody>\n",
       "    <tr>\n",
       "      <th>count</th>\n",
       "      <td>77.000000</td>\n",
       "      <td>77.000000</td>\n",
       "      <td>77.000000</td>\n",
       "      <td>77.000000</td>\n",
       "      <td>77.000000</td>\n",
       "      <td>77.000000</td>\n",
       "      <td>77.000000</td>\n",
       "      <td>77.000000</td>\n",
       "      <td>7.700000e+01</td>\n",
       "      <td>77.000000</td>\n",
       "      <td>77.000000</td>\n",
       "      <td>77.000000</td>\n",
       "      <td>77.000000</td>\n",
       "      <td>70.000000</td>\n",
       "      <td>70.000000</td>\n",
       "      <td>77.000000</td>\n",
       "    </tr>\n",
       "    <tr>\n",
       "      <th>mean</th>\n",
       "      <td>2017.000000</td>\n",
       "      <td>23789.571429</td>\n",
       "      <td>56455.168831</td>\n",
       "      <td>7574.492290</td>\n",
       "      <td>52714.610390</td>\n",
       "      <td>75.804156</td>\n",
       "      <td>71.070779</td>\n",
       "      <td>6.247662</td>\n",
       "      <td>1.127068e+06</td>\n",
       "      <td>29178.663746</td>\n",
       "      <td>1.905596</td>\n",
       "      <td>0.015625</td>\n",
       "      <td>14.285714</td>\n",
       "      <td>2.240881</td>\n",
       "      <td>2.203872</td>\n",
       "      <td>0.937520</td>\n",
       "    </tr>\n",
       "    <tr>\n",
       "      <th>std</th>\n",
       "      <td>3.183014</td>\n",
       "      <td>12728.493611</td>\n",
       "      <td>29153.410172</td>\n",
       "      <td>2200.132461</td>\n",
       "      <td>10242.913429</td>\n",
       "      <td>5.605201</td>\n",
       "      <td>5.524490</td>\n",
       "      <td>1.880865</td>\n",
       "      <td>9.076018e+05</td>\n",
       "      <td>8388.670824</td>\n",
       "      <td>0.509494</td>\n",
       "      <td>0.007259</td>\n",
       "      <td>7.619671</td>\n",
       "      <td>6.757238</td>\n",
       "      <td>3.289019</td>\n",
       "      <td>0.018816</td>\n",
       "    </tr>\n",
       "    <tr>\n",
       "      <th>min</th>\n",
       "      <td>2012.000000</td>\n",
       "      <td>4140.000000</td>\n",
       "      <td>11235.000000</td>\n",
       "      <td>4547.127646</td>\n",
       "      <td>30700.000000</td>\n",
       "      <td>62.190000</td>\n",
       "      <td>59.170000</td>\n",
       "      <td>2.900000</td>\n",
       "      <td>2.070650e+05</td>\n",
       "      <td>16671.027778</td>\n",
       "      <td>1.071845</td>\n",
       "      <td>0.003216</td>\n",
       "      <td>2.671054</td>\n",
       "      <td>-27.593880</td>\n",
       "      <td>-6.912568</td>\n",
       "      <td>0.895895</td>\n",
       "    </tr>\n",
       "    <tr>\n",
       "      <th>25%</th>\n",
       "      <td>2014.000000</td>\n",
       "      <td>14877.000000</td>\n",
       "      <td>35031.000000</td>\n",
       "      <td>6107.176587</td>\n",
       "      <td>45900.000000</td>\n",
       "      <td>71.410000</td>\n",
       "      <td>67.460000</td>\n",
       "      <td>5.210000</td>\n",
       "      <td>5.653800e+05</td>\n",
       "      <td>23780.636905</td>\n",
       "      <td>1.470770</td>\n",
       "      <td>0.009824</td>\n",
       "      <td>9.165173</td>\n",
       "      <td>-1.486344</td>\n",
       "      <td>1.234475</td>\n",
       "      <td>0.922647</td>\n",
       "    </tr>\n",
       "    <tr>\n",
       "      <th>50%</th>\n",
       "      <td>2017.000000</td>\n",
       "      <td>20523.000000</td>\n",
       "      <td>49728.000000</td>\n",
       "      <td>7109.821958</td>\n",
       "      <td>55100.000000</td>\n",
       "      <td>76.520000</td>\n",
       "      <td>70.260000</td>\n",
       "      <td>5.970000</td>\n",
       "      <td>8.769600e+05</td>\n",
       "      <td>27706.724603</td>\n",
       "      <td>1.882157</td>\n",
       "      <td>0.015229</td>\n",
       "      <td>12.012917</td>\n",
       "      <td>2.262669</td>\n",
       "      <td>2.798211</td>\n",
       "      <td>0.940401</td>\n",
       "    </tr>\n",
       "    <tr>\n",
       "      <th>75%</th>\n",
       "      <td>2020.000000</td>\n",
       "      <td>39849.000000</td>\n",
       "      <td>90195.000000</td>\n",
       "      <td>8437.140542</td>\n",
       "      <td>59300.000000</td>\n",
       "      <td>79.850000</td>\n",
       "      <td>76.210000</td>\n",
       "      <td>7.730000</td>\n",
       "      <td>1.416630e+06</td>\n",
       "      <td>31668.142196</td>\n",
       "      <td>2.253952</td>\n",
       "      <td>0.022310</td>\n",
       "      <td>24.664515</td>\n",
       "      <td>5.598580</td>\n",
       "      <td>3.691359</td>\n",
       "      <td>0.947854</td>\n",
       "    </tr>\n",
       "    <tr>\n",
       "      <th>max</th>\n",
       "      <td>2022.000000</td>\n",
       "      <td>46224.000000</td>\n",
       "      <td>107520.000000</td>\n",
       "      <td>13529.646825</td>\n",
       "      <td>73200.000000</td>\n",
       "      <td>84.430000</td>\n",
       "      <td>80.170000</td>\n",
       "      <td>10.400000</td>\n",
       "      <td>3.804445e+06</td>\n",
       "      <td>51193.229497</td>\n",
       "      <td>3.071196</td>\n",
       "      <td>0.032674</td>\n",
       "      <td>26.332867</td>\n",
       "      <td>18.600531</td>\n",
       "      <td>14.285714</td>\n",
       "      <td>0.970922</td>\n",
       "    </tr>\n",
       "  </tbody>\n",
       "</table>\n",
       "</div>"
      ],
      "text/plain": [
       "              Year     Graduates  Graduates (5Y)       Tuition  Median income  \\\n",
       "count    77.000000     77.000000       77.000000     77.000000      77.000000   \n",
       "mean   2017.000000  23789.571429    56455.168831   7574.492290   52714.610390   \n",
       "std       3.183014  12728.493611    29153.410172   2200.132461   10242.913429   \n",
       "min    2012.000000   4140.000000    11235.000000   4547.127646   30700.000000   \n",
       "25%    2014.000000  14877.000000    35031.000000   6107.176587   45900.000000   \n",
       "50%    2017.000000  20523.000000    49728.000000   7109.821958   55100.000000   \n",
       "75%    2020.000000  39849.000000    90195.000000   8437.140542   59300.000000   \n",
       "max    2022.000000  46224.000000   107520.000000  13529.646825   73200.000000   \n",
       "\n",
       "       Participation rate  Employment rate  Unemployment rate  Employed (25%)  \\\n",
       "count           77.000000        77.000000          77.000000    7.700000e+01   \n",
       "mean            75.804156        71.070779           6.247662    1.127068e+06   \n",
       "std              5.605201         5.524490           1.880865    9.076018e+05   \n",
       "min             62.190000        59.170000           2.900000    2.070650e+05   \n",
       "25%             71.410000        67.460000           5.210000    5.653800e+05   \n",
       "50%             76.520000        70.260000           5.970000    8.769600e+05   \n",
       "75%             79.850000        76.210000           7.730000    1.416630e+06   \n",
       "max             84.430000        80.170000          10.400000    3.804445e+06   \n",
       "\n",
       "       Tuition (4Y)        ROI  Saturation Index  Graduate Share (%)  \\\n",
       "count     77.000000  77.000000         77.000000           77.000000   \n",
       "mean   29178.663746   1.905596          0.015625           14.285714   \n",
       "std     8388.670824   0.509494          0.007259            7.619671   \n",
       "min    16671.027778   1.071845          0.003216            2.671054   \n",
       "25%    23780.636905   1.470770          0.009824            9.165173   \n",
       "50%    27706.724603   1.882157          0.015229           12.012917   \n",
       "75%    31668.142196   2.253952          0.022310           24.664515   \n",
       "max    51193.229497   3.071196          0.032674           26.332867   \n",
       "\n",
       "       Graduate Growth Rate (%)  Tuition Inflation (%)        ESI  \n",
       "count                 70.000000              70.000000  77.000000  \n",
       "mean                   2.240881               2.203872   0.937520  \n",
       "std                    6.757238               3.289019   0.018816  \n",
       "min                  -27.593880              -6.912568   0.895895  \n",
       "25%                   -1.486344               1.234475   0.922647  \n",
       "50%                    2.262669               2.798211   0.940401  \n",
       "75%                    5.598580               3.691359   0.947854  \n",
       "max                   18.600531              14.285714   0.970922  "
      ]
     },
     "execution_count": 20,
     "metadata": {},
     "output_type": "execute_result"
    }
   ],
   "source": [
    "data.drop(columns=ignored_cols).describe()"
   ]
  },
  {
   "cell_type": "markdown",
   "id": "4285d9e5-1171-4163-b80c-c52e4c2329cc",
   "metadata": {},
   "source": [
    "### 3.2. High-Level Overview\n",
    "This section provides a snapshot of the distribution of graduates across fields of study at the undergraduate level. The goal is to understand which disciplines are the most popular among students and how graduate output is spread across fields."
   ]
  },
  {
   "cell_type": "code",
   "execution_count": 21,
   "id": "ed458270-544d-4b91-bdba-c38e518528bf",
   "metadata": {},
   "outputs": [
    {
     "data": {
      "text/html": [
       "<iframe\n",
       "    scrolling=\"no\"\n",
       "    width=\"920px\"\n",
       "    height=\"520\"\n",
       "    src=\"iframe_figures/figure_21.html\"\n",
       "    frameborder=\"0\"\n",
       "    allowfullscreen\n",
       "></iframe>\n"
      ]
     },
     "metadata": {},
     "output_type": "display_data"
    }
   ],
   "source": [
    "plots.plot_snapshot_metrics_by_field(data, width=900, staticPlot=True)"
   ]
  },
  {
   "cell_type": "markdown",
   "id": "96fd10fe-5e04-41f2-8cbb-98155924dcfa",
   "metadata": {},
   "source": [
    "In 2022, **Business & Public Administration** and **Social Sciences & Law** dominated undergraduate education, each producing roughly **25% of all graduates**. Meanwhile, **Health** accounted for a **smaller share (15%)** but led all fields in both tuition costs and median income, suggesting a **high-cost, high-reward dynamic**. Fields like **Arts & Humanities** and **Education** had relatively low tuition, but also reported the lowest median incomes, highlighting potential **concerns around economic return**. **Mathematics & Computer Science** stood out with a **strong income-to-tuition ratio**, suggesting efficient value for students despite moderate enrollment."
   ]
  },
  {
   "cell_type": "markdown",
   "id": "b86bc363-1c69-4981-b358-2d65f13f7347",
   "metadata": {},
   "source": [
    "### 3.3. Value Analysis (ROI, Income, Tuition)\n",
    "In this section, we identify which undergraduate fields offer the best financial return, affordability, and value relative to tuition, using ROI, income, tuition, and graduate share.\n",
    "\n",
    "To ensure a balance between recency and stability, we averaged key metrics over the three most recent years (2020–2022). This approach smooths out short-term fluctuations while still reflecting current tuition costs, income levels, and employment outcomes relevant to today’s students. It would provide a more reliable basis for comparing fields than using a single year, without diluting the insight with older, potentially outdated data."
   ]
  },
  {
   "cell_type": "code",
   "execution_count": 22,
   "id": "a6de7579-7c9f-40f3-83ce-f75165853f08",
   "metadata": {},
   "outputs": [
    {
     "data": {
      "text/html": [
       "<iframe\n",
       "    scrolling=\"no\"\n",
       "    width=\"820px\"\n",
       "    height=\"520\"\n",
       "    src=\"iframe_figures/figure_22.html\"\n",
       "    frameborder=\"0\"\n",
       "    allowfullscreen\n",
       "></iframe>\n"
      ]
     },
     "metadata": {},
     "output_type": "display_data"
    }
   ],
   "source": [
    "plots.plot_roi_by_field(data, staticPlot=True)"
   ]
  },
  {
   "cell_type": "markdown",
   "id": "ee6cc143-7c3e-4a6a-a859-55db4c8a7c15",
   "metadata": {},
   "source": [
    "The 3-year average ROI data reveals that **Education**, **Math & CIS**, and **Architecture & Engineering** offer the highest financial return relative to tuition at the undergraduate level. Notably, Education stands out with both the **highest ROI (2.73)** and a **high Employment Stability Index (0.95)**, indicating strong value and job security. In contrast, **Arts & Humanities** and **Social Sciences & Law** have the **lowest ROI**, suggesting these fields may offer **weaker financial returns** despite moderate job stability."
   ]
  },
  {
   "cell_type": "code",
   "execution_count": 23,
   "id": "1bb42723-febe-4189-a2bb-05205c67c491",
   "metadata": {},
   "outputs": [
    {
     "data": {
      "text/html": [
       "<iframe\n",
       "    scrolling=\"no\"\n",
       "    width=\"920px\"\n",
       "    height=\"620\"\n",
       "    src=\"iframe_figures/figure_23.html\"\n",
       "    frameborder=\"0\"\n",
       "    allowfullscreen\n",
       "></iframe>\n"
      ]
     },
     "metadata": {},
     "output_type": "display_data"
    }
   ],
   "source": [
    "plots.plot_income_vs_tuition_bubble(data, width=900, staticPlot=False)"
   ]
  },
  {
   "cell_type": "markdown",
   "id": "dad976c1-2212-46fe-bbfe-ad0fe87e50e3",
   "metadata": {},
   "source": [
    "The scatter plot reveals clear differences in the cost-effectiveness of undergraduate fields.\n",
    "* **Education and Math & CIS** stand out as **high-value fields**, offering strong median incomes relative to modest tuition costs.\n",
    "* **Health** has the highest tuition but also the highest income, indicating a high-cost, high-return model.\n",
    "* **Arts & Humanities** and **Social Sciences & Law** exhibit lower median incomes despite moderate to high tuition, suggesting a **weaker return on investment**.\n",
    "* **Business & Admin** and **SocSci & Law** account for nearly **half of all graduates**, yet neither delivers standout income-to-cost ratios—suggesting potential concerns about oversupply in fields with moderate economic return."
   ]
  },
  {
   "cell_type": "markdown",
   "id": "81ad8ed5-1cb2-4a8e-9cac-306a140d0614",
   "metadata": {},
   "source": [
    "### 3.4. Market Fit\n",
    "This section assesses how well undergraduate programs align with job market demand. Using metrics like the Saturation Index and Employment Stability Index, we identify fields that may be oversupplied or offer more stable employment—helping students make informed choices and guiding policy alignment.\n",
    "\n",
    "Metrics are averaged over the three most recent years (2020–2022) to reflect current trends while minimizing short-term fluctuations."
   ]
  },
  {
   "cell_type": "code",
   "execution_count": null,
   "id": "c00437e5-58c3-4e5b-a4e8-d7b23193e26d",
   "metadata": {},
   "outputs": [],
   "source": [
    "plots.plot_saturation_circle_packing(data, staticPlot=False)"
   ]
  },
  {
   "cell_type": "code",
   "execution_count": null,
   "id": "7edf8789-f677-4d5d-9e40-7cdfe45562a2",
   "metadata": {},
   "outputs": [],
   "source": []
  }
 ],
 "metadata": {
  "kernelspec": {
   "display_name": "Python3",
   "language": "python",
   "name": "py3"
  },
  "language_info": {
   "codemirror_mode": {
    "name": "ipython",
    "version": 3
   },
   "file_extension": ".py",
   "mimetype": "text/x-python",
   "name": "python",
   "nbconvert_exporter": "python",
   "pygments_lexer": "ipython3",
   "version": "3.9.20"
  }
 },
 "nbformat": 4,
 "nbformat_minor": 5
}
