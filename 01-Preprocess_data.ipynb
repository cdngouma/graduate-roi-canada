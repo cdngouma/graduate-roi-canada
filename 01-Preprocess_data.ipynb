{
 "cells": [
  {
   "cell_type": "markdown",
   "id": "f96e51cd-a42e-4e9f-8e55-eb16833f81a0",
   "metadata": {},
   "source": [
    "## Overview\n",
    "The preprocessing steps were implemented in a modular Jupyter Notebook and follow a structured ETL (Extract, Transform, Load) approach:\n",
    "\n",
    "### Extract\n",
    "\n",
    "- Data is sourced from CSV files downloaded from Statistics Canada and other official open data sources.\n",
    "- The datasets include:\n",
    "  - Tuition costs (2006–2025)\n",
    "  - Graduation counts by field and education level\n",
    "  - Median income five years post-graduation\n",
    "  - Labour market outcomes from the census (2011, 2016, 2021)\n",
    "\n",
    "### Transform\n",
    "\n",
    "- **Tuition Data**: Renamed columns, extracted the starting year from academic ranges (e.g., \"2010/2011\" becomes 2010), and filtered out aggregate categories. Education level was added to each row.\n",
    "- **Graduation Data**: Cleaned field names, unified education levels (Bachelor's, Master's, Doctoral → Undergraduate, Graduate), and filtered for Canadian-wide data.\n",
    "- **Income Data**: Removed summary categories (e.g., STEM, BHASE), standardized field names, and derived `Graduation Year` from `Survey Year - 5`.\n",
    "- **Labour Data**: Parsed raw files for census years, removed metadata rows, standardized columns, and cleaned up annotations from field names.\n",
    "- **Field of Study Normalization**: Applied a universal mapping across datasets to ensure consistent field names.\n",
    "- **Education Level Unification**: For field-level analysis, education types were merged under a single \"Postsecondary\" category.\n",
    "- **Aggregation**:\n",
    "  - Graduates were summed per year and field.\n",
    "  - Tuition was computed as a weighted average based on graduate counts.\n",
    "  - Median income values were retained at the field-year level (not education-specific).\n",
    "- **Census Alignment**: Each observation year was mapped to its nearest census year (2001, 2006, 2011, 2016, 2021, or 2026) to match labour force data.\n",
    "\n",
    "### Load\n",
    "\n",
    "- Cleaned and aggregated datasets were exported as CSV files for downstream analysis:\n",
    "  - `postsecondary_field_outcomes.csv`: Combined tuition, graduates, and income data by field and year.\n",
    "  - `postsecondary_labour_outcomes.csv`: Census-based labour indicators by field of study."
   ]
  },
  {
   "cell_type": "code",
   "execution_count": 1,
   "id": "980617d2-08a3-4d39-9e92-33665a57cf92",
   "metadata": {},
   "outputs": [],
   "source": [
    "import pandas as pd\n",
    "import re\n",
    "import os"
   ]
  },
  {
   "cell_type": "markdown",
   "id": "d3a1cd2b-003b-49d8-af49-e030f9e8d34a",
   "metadata": {},
   "source": [
    "## Extract data"
   ]
  },
  {
   "cell_type": "markdown",
   "id": "df6b466d-32e1-4b65-adfd-013bea25479d",
   "metadata": {},
   "source": [
    "### Tution Data\n",
    "This dataset offers annual data on undergraduate tuition fees across various fields of study in Canada, measured in current dollars. The data spans academic years from 2006/2007 to 2024/2025. The data is sourced from the Tuition and Living Accommodation Costs survey. Notably, a correction was made on October 21, 2020, to address an error affecting the 2019/2020 and 2020/2021 data for one Alberta college, impacting average tuition fees for Alberta and Canada in certain fields. We focus on the broader national average."
   ]
  },
  {
   "cell_type": "code",
   "execution_count": 2,
   "id": "0931ea8b-f695-4b31-8224-e25eefe5d181",
   "metadata": {},
   "outputs": [],
   "source": [
    "def preprocess_tuition_data(df, edu_level):\n",
    "    # Select and rename relevant columns\n",
    "    cols = [\"REF_DATE\", \"Field of study\", \"VALUE\"]\n",
    "    df_ = df[cols].copy()\n",
    "    df_ = df_.rename(columns={\"REF_DATE\": \"Year\", \"VALUE\": \"Tuition\"})\n",
    "    \n",
    "    # Extract start year\n",
    "    df_[\"Year\"] = df_[\"Year\"].apply(lambda x: x.split('/')[0])\n",
    "    df_[\"Year\"] = df_[\"Year\"].astype(int)\n",
    "    \n",
    "    # Remove total fields\n",
    "    df_ = df_[df[\"Field of study\"] != \"Total, field of study\"]\n",
    "    \n",
    "    # Set education level\n",
    "    df_[\"Education\"] = edu_level\n",
    "    \n",
    "    return df_"
   ]
  },
  {
   "cell_type": "code",
   "execution_count": 3,
   "id": "b8098320-6aca-48d3-b814-c5abf994f774",
   "metadata": {},
   "outputs": [],
   "source": [
    "undergrad_tuition_data = pd.read_csv(\"data/tuition/undergraduate.csv\")\n",
    "grad_tuition_data = pd.read_csv(\"data/tuition/graduate.csv\")"
   ]
  },
  {
   "cell_type": "code",
   "execution_count": 4,
   "id": "c32ecc84-01e1-4cf9-b65d-f8a13f3de18f",
   "metadata": {},
   "outputs": [],
   "source": [
    "tuition_data = pd.concat([\n",
    "    preprocess_tuition_data(undergrad_tuition_data, edu_level=\"Undergraduate\"), \n",
    "    preprocess_tuition_data(grad_tuition_data, edu_level=\"Graduate\")\n",
    "])"
   ]
  },
  {
   "cell_type": "code",
   "execution_count": 5,
   "id": "bbd6b418-0537-4012-bbfe-2888cd79266f",
   "metadata": {},
   "outputs": [
    {
     "data": {
      "text/html": [
       "<div>\n",
       "<style scoped>\n",
       "    .dataframe tbody tr th:only-of-type {\n",
       "        vertical-align: middle;\n",
       "    }\n",
       "\n",
       "    .dataframe tbody tr th {\n",
       "        vertical-align: top;\n",
       "    }\n",
       "\n",
       "    .dataframe thead th {\n",
       "        text-align: right;\n",
       "    }\n",
       "</style>\n",
       "<table border=\"1\" class=\"dataframe\">\n",
       "  <thead>\n",
       "    <tr style=\"text-align: right;\">\n",
       "      <th></th>\n",
       "      <th>Year</th>\n",
       "      <th>Field of study</th>\n",
       "      <th>Tuition</th>\n",
       "      <th>Education</th>\n",
       "    </tr>\n",
       "  </thead>\n",
       "  <tbody>\n",
       "    <tr>\n",
       "      <th>19</th>\n",
       "      <td>2006</td>\n",
       "      <td>Education</td>\n",
       "      <td>3373.0</td>\n",
       "      <td>Undergraduate</td>\n",
       "    </tr>\n",
       "    <tr>\n",
       "      <th>20</th>\n",
       "      <td>2007</td>\n",
       "      <td>Education</td>\n",
       "      <td>3545.0</td>\n",
       "      <td>Undergraduate</td>\n",
       "    </tr>\n",
       "    <tr>\n",
       "      <th>21</th>\n",
       "      <td>2008</td>\n",
       "      <td>Education</td>\n",
       "      <td>3652.0</td>\n",
       "      <td>Undergraduate</td>\n",
       "    </tr>\n",
       "    <tr>\n",
       "      <th>22</th>\n",
       "      <td>2009</td>\n",
       "      <td>Education</td>\n",
       "      <td>3739.0</td>\n",
       "      <td>Undergraduate</td>\n",
       "    </tr>\n",
       "    <tr>\n",
       "      <th>23</th>\n",
       "      <td>2010</td>\n",
       "      <td>Education</td>\n",
       "      <td>3850.0</td>\n",
       "      <td>Undergraduate</td>\n",
       "    </tr>\n",
       "  </tbody>\n",
       "</table>\n",
       "</div>"
      ],
      "text/plain": [
       "    Year Field of study  Tuition      Education\n",
       "19  2006      Education   3373.0  Undergraduate\n",
       "20  2007      Education   3545.0  Undergraduate\n",
       "21  2008      Education   3652.0  Undergraduate\n",
       "22  2009      Education   3739.0  Undergraduate\n",
       "23  2010      Education   3850.0  Undergraduate"
      ]
     },
     "execution_count": 5,
     "metadata": {},
     "output_type": "execute_result"
    }
   ],
   "source": [
    "tuition_data.head()"
   ]
  },
  {
   "cell_type": "markdown",
   "id": "b067649e-d326-4f36-b7ed-f8d6e762efd2",
   "metadata": {},
   "source": [
    "### Median Income Data\n",
    "This dataset provides information on the characteristics and median employment income of postsecondary graduates in Canada five years after graduation. It includes data from 2010 to 2017, covering graduates by educational qualification and field of study, grouped into STEM and BHASE (non-STEM) categories. The data is sourced from the Postsecondary Student Information System and the T1 Family File. Our focus is on the broader national trends rather than provincial or demographic breakdowns."
   ]
  },
  {
   "cell_type": "code",
   "execution_count": 6,
   "id": "51a37a7a-4638-4c9f-acde-61ac913150ea",
   "metadata": {},
   "outputs": [],
   "source": [
    "def preprocess_income_data(df):\n",
    "    education_cred_mapping = {\n",
    "        \"Undergraduate certificate\": \"Bachelor’s or equivalent\",\n",
    "        \"Undergraduate diploma\": \"Bachelor’s or equivalent\",\n",
    "        \"Undergraduate degree\": \"Bachelor’s or equivalent\",\n",
    "        \"Undergraduate associate\": \"Bachelor’s or equivalent\",\n",
    "        \"Other undergraduate credential\": \"Bachelor’s or equivalent\",\n",
    "        \"Post-baccalaureate non-graduate degree\": \"Bachelor’s or equivalent\",\n",
    "        \"Other post-baccalaureate non-graduate credential\": \"Bachelor’s or equivalent\",\n",
    "        \"Undergraduate-level short credential\": \"Bachelor’s or equivalent\",\n",
    "        \"Health-related residency program diploma\": \"Master's or equivalent\",\n",
    "        \"Health-related residency program certificate\": \"Master's or equivalent\",\n",
    "        \"Health-related residency program degree\": \"Master's or equivalent\",\n",
    "        \"Master's certificate\": \"Master's or equivalent\",\n",
    "        \"Master's diploma\": \"Master's or equivalent\",\n",
    "        \"Master's degree\": \"Master's or equivalent\",\n",
    "        \"Other master's-level credential\": \"Master's or equivalent\",\n",
    "        \"Master's-level short credential\": \"Bachelor’s or equivalent\",\n",
    "        \"Doctoral-level certificate\": \"Doctoral or equivalent\",\n",
    "        \"Doctoral-level diploma\": \"Doctoral or equivalent\",\n",
    "        \"Doctoral degree\": \"Doctoral or equivalent\",\n",
    "        \"Post=doctoral diploma\": \"Doctoral or equivalent\"\n",
    "    }\n",
    "\n",
    "    fields = [\n",
    "        \"Education [1]\", \"Visual and performing arts, and communications technologies [2]\",\n",
    "        \"Humanities [3]\", \"Social and behavioural sciences and law [4]\", \n",
    "        \"Business, management and public administration [5]\", \n",
    "        \"Physical and life sciences and technologies [6]\",\n",
    "        \"Mathematics, computer and information sciences [7]\", \n",
    "        \"Architecture, engineering, and related technologies [8]\",\n",
    "        \"Agriculture, natural resources and conservation [9]\",\n",
    "        \"Health and related fields [10]\",\n",
    "        \"Personal, protective and transportation services [11]\"\n",
    "    ]\n",
    "    \n",
    "    # Filter rows\n",
    "    df_ = df[\n",
    "        (df[\"GEO\"] == \"Canada\")\n",
    "        & (df[\"Field of study\"].isin(fields))\n",
    "        & (df[\"Educational qualification\"].isin(education_cred_mapping.keys()))\n",
    "        & (df[\"Gender\"] == \"Total, gender\")\n",
    "        & (df[\"Age group\"] == \"15 to 64 years\")\n",
    "        & (df[\"Status of student in Canada\"] == \"Canadian and international students\")\n",
    "        & (df[\"Characteristics after graduation\"] == \"Graduates reporting employment income\")\n",
    "        & (df[\"Graduate statistics\"] == \"Median employment income\")\n",
    "    ].copy()\n",
    "\n",
    "    assert len(df_[\"GEO\"].unique()) == 1 and \\\n",
    "           len(df_[\"Gender\"].unique()) == 1 and \\\n",
    "           len(df_[\"Age group\"].unique()) == 1 and \\\n",
    "           len(df_[\"Status of student in Canada\"].unique()) == 1 and \\\n",
    "           len(df_[\"Characteristics after graduation\"].unique()) == 1 and \\\n",
    "           len(df_[\"Graduate statistics\"].unique()) == 1\n",
    "\n",
    "    # Select and rename relevant columns\n",
    "    cols = [\"REF_DATE\", \"Educational qualification\", \"Field of study\", \"VALUE\"]\n",
    "    df_ = df_.rename(columns={\n",
    "        \"REF_DATE\": \"Graduation Year\", \n",
    "        \"VALUE\": \"Median income\", \n",
    "        \"Educational qualification\": \"Education\"\n",
    "    })\n",
    "\n",
    "    # Clean up field of study names by removing trailing brackets\n",
    "    df_[\"Field of study\"] = df_[\"Field of study\"].apply(lambda x: re.sub(r'\\s+\\[\\d+\\]', \"\", x))\n",
    "\n",
    "    # Normalize education levels\n",
    "    df_[\"Education\"] = df_[\"Education\"].replace(education_cred_mapping)\n",
    "    \n",
    "    # Aggregate by field of study, education level, and survey year\n",
    "    df_ = df_.groupby([\"Graduation Year\", \"Field of study\", \"Education\"], as_index=False)[\"Median income\"].median()\n",
    "\n",
    "    # Add survey year (2 years after graduation year)\n",
    "    df_[\"Survey Year\"] = df_[\"Graduation Year\"] + 2\n",
    "    \n",
    "    return df_"
   ]
  },
  {
   "cell_type": "code",
   "execution_count": 7,
   "id": "c7587303-c64c-4422-9a30-188d3fdcb00f",
   "metadata": {},
   "outputs": [
    {
     "data": {
      "text/plain": [
       "(5454852, 21)"
      ]
     },
     "execution_count": 7,
     "metadata": {},
     "output_type": "execute_result"
    }
   ],
   "source": [
    "raw_income_data = pd.read_csv(\"data/income/median_income_after_2_years.csv\")\n",
    "raw_income_data.shape"
   ]
  },
  {
   "cell_type": "code",
   "execution_count": 8,
   "id": "56e76939-01bf-4c48-8794-37a6b65fe9fc",
   "metadata": {},
   "outputs": [],
   "source": [
    "income_data = preprocess_income_data(raw_income_data)"
   ]
  },
  {
   "cell_type": "code",
   "execution_count": 9,
   "id": "b39eaf2d-9177-441f-97ce-c7fd0159779d",
   "metadata": {},
   "outputs": [
    {
     "data": {
      "text/html": [
       "<div>\n",
       "<style scoped>\n",
       "    .dataframe tbody tr th:only-of-type {\n",
       "        vertical-align: middle;\n",
       "    }\n",
       "\n",
       "    .dataframe tbody tr th {\n",
       "        vertical-align: top;\n",
       "    }\n",
       "\n",
       "    .dataframe thead th {\n",
       "        text-align: right;\n",
       "    }\n",
       "</style>\n",
       "<table border=\"1\" class=\"dataframe\">\n",
       "  <thead>\n",
       "    <tr style=\"text-align: right;\">\n",
       "      <th></th>\n",
       "      <th>Graduation Year</th>\n",
       "      <th>Field of study</th>\n",
       "      <th>Education</th>\n",
       "      <th>Median income</th>\n",
       "      <th>Survey Year</th>\n",
       "    </tr>\n",
       "  </thead>\n",
       "  <tbody>\n",
       "    <tr>\n",
       "      <th>0</th>\n",
       "      <td>2010</td>\n",
       "      <td>Agriculture, natural resources and conservation</td>\n",
       "      <td>Bachelor’s or equivalent</td>\n",
       "      <td>47100.0</td>\n",
       "      <td>2012</td>\n",
       "    </tr>\n",
       "    <tr>\n",
       "      <th>1</th>\n",
       "      <td>2010</td>\n",
       "      <td>Agriculture, natural resources and conservation</td>\n",
       "      <td>Doctoral or equivalent</td>\n",
       "      <td>62600.0</td>\n",
       "      <td>2012</td>\n",
       "    </tr>\n",
       "    <tr>\n",
       "      <th>2</th>\n",
       "      <td>2010</td>\n",
       "      <td>Agriculture, natural resources and conservation</td>\n",
       "      <td>Master's or equivalent</td>\n",
       "      <td>68000.0</td>\n",
       "      <td>2012</td>\n",
       "    </tr>\n",
       "    <tr>\n",
       "      <th>3</th>\n",
       "      <td>2010</td>\n",
       "      <td>Architecture, engineering, and related technol...</td>\n",
       "      <td>Bachelor’s or equivalent</td>\n",
       "      <td>69800.0</td>\n",
       "      <td>2012</td>\n",
       "    </tr>\n",
       "    <tr>\n",
       "      <th>4</th>\n",
       "      <td>2010</td>\n",
       "      <td>Architecture, engineering, and related technol...</td>\n",
       "      <td>Doctoral or equivalent</td>\n",
       "      <td>89600.0</td>\n",
       "      <td>2012</td>\n",
       "    </tr>\n",
       "  </tbody>\n",
       "</table>\n",
       "</div>"
      ],
      "text/plain": [
       "   Graduation Year                                     Field of study  \\\n",
       "0             2010    Agriculture, natural resources and conservation   \n",
       "1             2010    Agriculture, natural resources and conservation   \n",
       "2             2010    Agriculture, natural resources and conservation   \n",
       "3             2010  Architecture, engineering, and related technol...   \n",
       "4             2010  Architecture, engineering, and related technol...   \n",
       "\n",
       "                  Education  Median income  Survey Year  \n",
       "0  Bachelor’s or equivalent        47100.0         2012  \n",
       "1    Doctoral or equivalent        62600.0         2012  \n",
       "2    Master's or equivalent        68000.0         2012  \n",
       "3  Bachelor’s or equivalent        69800.0         2012  \n",
       "4    Doctoral or equivalent        89600.0         2012  "
      ]
     },
     "execution_count": 9,
     "metadata": {},
     "output_type": "execute_result"
    }
   ],
   "source": [
    "income_data.head()"
   ]
  },
  {
   "cell_type": "markdown",
   "id": "8ead2afd-20c5-45e6-b818-d9f32b8ef7f2",
   "metadata": {},
   "source": [
    "### Labour Data\n",
    "This combined dataset draws from Canadian census and National Household Survey data (2011, 2016, and 2021) to provide a cross-sectional view of the labour force status by major field of study, highest certificate, diploma or degree, and demographic characteristics such as age and gender. Each dataset reflects the population aged 15 years and over in private households at the national level. The data are sourced from the 25% sample of the census and NHS populations. By aligning these datasets, we analyze trends in educational attainment and employment outcomes across time. Our focus remains on national-level comparisons across years and fields of study."
   ]
  },
  {
   "cell_type": "code",
   "execution_count": 10,
   "id": "8dfd7643-bbd2-4532-829a-10680668bdbe",
   "metadata": {},
   "outputs": [],
   "source": [
    "def preprocess_labour_data(filepath, year, version=1):\n",
    "    if version == 1:\n",
    "        # Skip metadata rows\n",
    "        with open(filepath, \"r\", encoding=\"utf-8\") as f:\n",
    "            lines = f.readlines()\n",
    "            \n",
    "        # locate header row\n",
    "        for i,line in enumerate(lines):\n",
    "            if line.strip().startswith('\"Major field of study') or line.strip().startswith('Major field of study'):\n",
    "                table_start = i\n",
    "                break\n",
    "                    \n",
    "        # Locate footer rows\n",
    "        for j in range(len(lines)-1, -1, -1):\n",
    "            if lines[j].strip().startswith('\"Note') or lines[j].strip().startswith('Abbreviation notes:'):\n",
    "                table_end = j\n",
    "                break\n",
    "        \n",
    "        # Extract the actual table lines\n",
    "        table_lines = lines[table_start:table_end]\n",
    "        \n",
    "        # Load the CSV from those lines\n",
    "        from io import StringIO\n",
    "        df = pd.read_csv(StringIO('\\n'.join(table_lines)), encoding=\"utf-8\")\n",
    "        \n",
    "        # Rename first column for easier reference\n",
    "        df.columns.values[0] = \"Field of study\"\n",
    "        \n",
    "        # Define regex pattern to match main fields\n",
    "        pattern = re.compile(r\"^\\s*\\d\")\n",
    "        df = df[~df[\"Field of study\"].astype(str).str.strip().str.match(pattern)]\n",
    "\n",
    "        df.columns = [col.strip() for col in df.columns]\n",
    "        \n",
    "        # Extract relevant columns\n",
    "        cols = [\n",
    "            \"Field of study\", \"Participation rate\", \"Employment rate\", \"Unemployment rate\",\n",
    "            \"In the labour force\", \"Employed\", \"Unemployed\", \"Not in the labour force\"\n",
    "        ]\n",
    "        df = df[cols]\n",
    "        \n",
    "        # Add Year column\n",
    "        df[\"Year\"] = year\n",
    "\n",
    "        # Drop totals and calculated rows\n",
    "        df = df.iloc[2:]\n",
    "\n",
    "        # Clean up text\n",
    "        df = df[~df[\"Field of study\"].isnull()]\n",
    "        df[\"Field of study\"] = df[\"Field of study\"].apply(lambda x: re.sub(r'\\s+\\[\\d+\\]', \"\", x))\n",
    "        df[\"Field of study\"] = df[\"Field of study\"].str.strip()\n",
    "        \n",
    "        # Reset index\n",
    "        df.reset_index(drop=True, inplace=True)\n",
    "    elif version == 2:\n",
    "        # Select relevant columns\n",
    "        cols = [\"REF_DATE\", \"Field of study\", \"Labour force status (8)\"]\n",
    "        df = pd.read_csv(filepath)\n",
    "        \n",
    "    else:\n",
    "        raise Exception(\"Version not supported.\")\n",
    "  \n",
    "    return df"
   ]
  },
  {
   "cell_type": "code",
   "execution_count": 11,
   "id": "401a738f-3bb4-42b8-9b59-90afe609e288",
   "metadata": {},
   "outputs": [],
   "source": [
    "labour_data = pd.concat([\n",
    "    preprocess_labour_data(filepath=\"data/labour/2021.csv\", year=2021, version=1),\n",
    "    preprocess_labour_data(filepath=\"data/labour/2016.csv\", year=2016, version=1),\n",
    "    preprocess_labour_data(filepath=\"data/labour/2011.csv\", year=2011, version=1)\n",
    "])\n",
    "\n",
    "labour_data.reset_index(drop=True, inplace=True)"
   ]
  },
  {
   "cell_type": "code",
   "execution_count": 12,
   "id": "987d9815-1039-42bb-b831-8b7236b2df34",
   "metadata": {},
   "outputs": [
    {
     "data": {
      "text/html": [
       "<div>\n",
       "<style scoped>\n",
       "    .dataframe tbody tr th:only-of-type {\n",
       "        vertical-align: middle;\n",
       "    }\n",
       "\n",
       "    .dataframe tbody tr th {\n",
       "        vertical-align: top;\n",
       "    }\n",
       "\n",
       "    .dataframe thead th {\n",
       "        text-align: right;\n",
       "    }\n",
       "</style>\n",
       "<table border=\"1\" class=\"dataframe\">\n",
       "  <thead>\n",
       "    <tr style=\"text-align: right;\">\n",
       "      <th></th>\n",
       "      <th>Field of study</th>\n",
       "      <th>Participation rate</th>\n",
       "      <th>Employment rate</th>\n",
       "      <th>Unemployment rate</th>\n",
       "      <th>In the labour force</th>\n",
       "      <th>Employed</th>\n",
       "      <th>Unemployed</th>\n",
       "      <th>Not in the labour force</th>\n",
       "      <th>Year</th>\n",
       "    </tr>\n",
       "  </thead>\n",
       "  <tbody>\n",
       "    <tr>\n",
       "      <th>0</th>\n",
       "      <td>Education</td>\n",
       "      <td>62.2</td>\n",
       "      <td>59.2</td>\n",
       "      <td>4.9</td>\n",
       "      <td>692,215</td>\n",
       "      <td>658,610</td>\n",
       "      <td>33,605</td>\n",
       "      <td>420,805</td>\n",
       "      <td>2021</td>\n",
       "    </tr>\n",
       "    <tr>\n",
       "      <th>1</th>\n",
       "      <td>Visual and performing arts, and communications...</td>\n",
       "      <td>75.9</td>\n",
       "      <td>67.2</td>\n",
       "      <td>11.5</td>\n",
       "      <td>479,040</td>\n",
       "      <td>424,020</td>\n",
       "      <td>55,015</td>\n",
       "      <td>152,220</td>\n",
       "      <td>2021</td>\n",
       "    </tr>\n",
       "    <tr>\n",
       "      <th>2</th>\n",
       "      <td>Humanities</td>\n",
       "      <td>68.3</td>\n",
       "      <td>61.7</td>\n",
       "      <td>9.6</td>\n",
       "      <td>632,770</td>\n",
       "      <td>572,110</td>\n",
       "      <td>60,660</td>\n",
       "      <td>293,790</td>\n",
       "      <td>2021</td>\n",
       "    </tr>\n",
       "    <tr>\n",
       "      <th>3</th>\n",
       "      <td>Social and behavioural sciences and law</td>\n",
       "      <td>76.5</td>\n",
       "      <td>70.3</td>\n",
       "      <td>8.2</td>\n",
       "      <td>1,542,740</td>\n",
       "      <td>1,416,630</td>\n",
       "      <td>126,110</td>\n",
       "      <td>473,385</td>\n",
       "      <td>2021</td>\n",
       "    </tr>\n",
       "    <tr>\n",
       "      <th>4</th>\n",
       "      <td>Business, management and public administration</td>\n",
       "      <td>75.1</td>\n",
       "      <td>69.3</td>\n",
       "      <td>7.7</td>\n",
       "      <td>2,822,835</td>\n",
       "      <td>2,604,645</td>\n",
       "      <td>218,195</td>\n",
       "      <td>935,415</td>\n",
       "      <td>2021</td>\n",
       "    </tr>\n",
       "  </tbody>\n",
       "</table>\n",
       "</div>"
      ],
      "text/plain": [
       "                                      Field of study  Participation rate  \\\n",
       "0                                          Education                62.2   \n",
       "1  Visual and performing arts, and communications...                75.9   \n",
       "2                                         Humanities                68.3   \n",
       "3            Social and behavioural sciences and law                76.5   \n",
       "4     Business, management and public administration                75.1   \n",
       "\n",
       "   Employment rate  Unemployment rate In the labour force   Employed  \\\n",
       "0             59.2                4.9             692,215    658,610   \n",
       "1             67.2               11.5             479,040    424,020   \n",
       "2             61.7                9.6             632,770    572,110   \n",
       "3             70.3                8.2           1,542,740  1,416,630   \n",
       "4             69.3                7.7           2,822,835  2,604,645   \n",
       "\n",
       "  Unemployed Not in the labour force  Year  \n",
       "0     33,605                 420,805  2021  \n",
       "1     55,015                 152,220  2021  \n",
       "2     60,660                 293,790  2021  \n",
       "3    126,110                 473,385  2021  \n",
       "4    218,195                 935,415  2021  "
      ]
     },
     "execution_count": 12,
     "metadata": {},
     "output_type": "execute_result"
    }
   ],
   "source": [
    "labour_data.head()"
   ]
  },
  {
   "cell_type": "code",
   "execution_count": 13,
   "id": "f9dcaf4f-cb66-4bb8-9aa5-36981f8a83da",
   "metadata": {},
   "outputs": [],
   "source": [
    "labour_data[\"Field of study\"] = labour_data[\"Field of study\"].replace({\n",
    "    \"Other 18\": \"Other\",\n",
    "    \"Other fields of study\": \"Other\",\n",
    "    \"Architecture, engineering, and related trades\": \"Architecture, engineering, and related technologies\"\n",
    "})"
   ]
  },
  {
   "cell_type": "markdown",
   "id": "eb3e6cbd-39c8-4d26-b0a8-b2cad768ba8b",
   "metadata": {},
   "source": [
    "### Graduation Data\n",
    "This dataset offers annual counts of postsecondary graduates in Canada, categorized by institution type (e.g., university, college), education level (e.g., bachelor's, master's, doctoral degrees), detailed field of study, gender, and student status in Canada (domestic or international). The data spans from 2000 to 2022 and is sourced from the Postsecondary Student Information System (PSIS). It provides insights into trends in postsecondary education completions across various disciplines and demographic groups. Our analysis focuses on national-level trends across different fields of study and education levels."
   ]
  },
  {
   "cell_type": "code",
   "execution_count": 14,
   "id": "4265b1c4-311b-4cd1-b216-c1e52575314c",
   "metadata": {},
   "outputs": [],
   "source": [
    "def preprocess_graduation_data(filepath):\n",
    "    df = pd.read_csv(filepath)\n",
    "\n",
    "    # Select and rename relveant columns\n",
    "    cols = [\"REF_DATE\", \"Field of study\", \"VALUE\", \"International Standard Classification of Education (ISCED)\", \"GEO\"]\n",
    "    df = df[cols]\n",
    "    df = df.rename(columns={\n",
    "        \"REF_DATE\": \"Year\", \n",
    "        \"VALUE\": \"Graduates\",\n",
    "        \"International Standard Classification of Education (ISCED)\": \"Education\"\n",
    "    })\n",
    "\n",
    "    df = df[df[\"GEO\"] == \"Canada\"]\n",
    "\n",
    "    # Clean up field of study text\n",
    "    df[\"Field of study\"] = df[\"Field of study\"].apply(lambda x: re.sub(r'\\s+\\[\\d+\\]', \"\", x))\n",
    "\n",
    "    df = df.drop(columns=[\"GEO\"])\n",
    "\n",
    "    return df"
   ]
  },
  {
   "cell_type": "code",
   "execution_count": 15,
   "id": "35c14919-8090-41cc-8f70-c1e3d90fdb88",
   "metadata": {},
   "outputs": [],
   "source": [
    "def find_csv_files(directory):\n",
    "    csv_files = []\n",
    "    for filename in os.listdir(directory):\n",
    "        if filename.lower().endswith(\".csv\"):\n",
    "            csv_files.append(os.path.join(directory, filename))\n",
    "    return csv_files"
   ]
  },
  {
   "cell_type": "code",
   "execution_count": 16,
   "id": "1045ae3a-7fa8-4bda-bfd5-b70347f92964",
   "metadata": {},
   "outputs": [],
   "source": [
    "csv_files = find_csv_files(\"data/graduation\")"
   ]
  },
  {
   "cell_type": "code",
   "execution_count": 17,
   "id": "4328c270-81ca-479a-ba0a-1e087f8badb4",
   "metadata": {},
   "outputs": [],
   "source": [
    "graduation_data = pd.concat([preprocess_graduation_data(filepath) for filepath in csv_files])"
   ]
  },
  {
   "cell_type": "code",
   "execution_count": 18,
   "id": "6b308142-5383-4104-abb4-ef2be9cb1c39",
   "metadata": {},
   "outputs": [
    {
     "data": {
      "text/html": [
       "<div>\n",
       "<style scoped>\n",
       "    .dataframe tbody tr th:only-of-type {\n",
       "        vertical-align: middle;\n",
       "    }\n",
       "\n",
       "    .dataframe tbody tr th {\n",
       "        vertical-align: top;\n",
       "    }\n",
       "\n",
       "    .dataframe thead th {\n",
       "        text-align: right;\n",
       "    }\n",
       "</style>\n",
       "<table border=\"1\" class=\"dataframe\">\n",
       "  <thead>\n",
       "    <tr style=\"text-align: right;\">\n",
       "      <th></th>\n",
       "      <th>Year</th>\n",
       "      <th>Field of study</th>\n",
       "      <th>Graduates</th>\n",
       "      <th>Education</th>\n",
       "    </tr>\n",
       "  </thead>\n",
       "  <tbody>\n",
       "    <tr>\n",
       "      <th>0</th>\n",
       "      <td>2000</td>\n",
       "      <td>Business, management and public administration</td>\n",
       "      <td>19836.0</td>\n",
       "      <td>Bachelor's or equivalent</td>\n",
       "    </tr>\n",
       "    <tr>\n",
       "      <th>1</th>\n",
       "      <td>2001</td>\n",
       "      <td>Business, management and public administration</td>\n",
       "      <td>21198.0</td>\n",
       "      <td>Bachelor's or equivalent</td>\n",
       "    </tr>\n",
       "    <tr>\n",
       "      <th>2</th>\n",
       "      <td>2002</td>\n",
       "      <td>Business, management and public administration</td>\n",
       "      <td>22857.0</td>\n",
       "      <td>Bachelor's or equivalent</td>\n",
       "    </tr>\n",
       "    <tr>\n",
       "      <th>3</th>\n",
       "      <td>2003</td>\n",
       "      <td>Business, management and public administration</td>\n",
       "      <td>24324.0</td>\n",
       "      <td>Bachelor's or equivalent</td>\n",
       "    </tr>\n",
       "    <tr>\n",
       "      <th>4</th>\n",
       "      <td>2004</td>\n",
       "      <td>Business, management and public administration</td>\n",
       "      <td>26118.0</td>\n",
       "      <td>Bachelor's or equivalent</td>\n",
       "    </tr>\n",
       "  </tbody>\n",
       "</table>\n",
       "</div>"
      ],
      "text/plain": [
       "   Year                                  Field of study  Graduates  \\\n",
       "0  2000  Business, management and public administration    19836.0   \n",
       "1  2001  Business, management and public administration    21198.0   \n",
       "2  2002  Business, management and public administration    22857.0   \n",
       "3  2003  Business, management and public administration    24324.0   \n",
       "4  2004  Business, management and public administration    26118.0   \n",
       "\n",
       "                  Education  \n",
       "0  Bachelor's or equivalent  \n",
       "1  Bachelor's or equivalent  \n",
       "2  Bachelor's or equivalent  \n",
       "3  Bachelor's or equivalent  \n",
       "4  Bachelor's or equivalent  "
      ]
     },
     "execution_count": 18,
     "metadata": {},
     "output_type": "execute_result"
    }
   ],
   "source": [
    "graduation_data.head()"
   ]
  },
  {
   "cell_type": "markdown",
   "id": "0f4df86c-6d0b-42ae-880c-0b4809fe3065",
   "metadata": {},
   "source": [
    "## Transform data"
   ]
  },
  {
   "cell_type": "markdown",
   "id": "6fa308a5-673d-4104-9ff1-5f212491ce63",
   "metadata": {},
   "source": [
    "### Reconcile `Field of study` Categories\n",
    "Since our analysis centers on the `Field of study`, it's crucial to standardize terminology across all datasets. Each dataset uses slightly different labels, so we must align them under a unified set of categories to enable accurate comparisons and analysis.\n",
    "\n",
    "To ensure consistency across all datasets, we select the Graduation data's Field of study categories as our standard reference. This dataset offers a concise and balanced list of academic fields that are broad enough to encompass the terminology used in the other datasets. We may then use a dictionary-based mapping approach to align the field names from Tuition, Income, and Labour data to this standardized list. This method would be more appropriate than NLP techniques due to the small number of distinct categories and the categorical nature of the data, making direct mapping more reliable and transparent."
   ]
  },
  {
   "cell_type": "code",
   "execution_count": 19,
   "id": "84d0b793-9719-421a-9f8d-1b24a1c10b8f",
   "metadata": {},
   "outputs": [],
   "source": [
    "graduation_data[\"Field of study\"] = graduation_data[\"Field of study\"].replace({\"Humanities\": \"Arts and humanities\"})"
   ]
  },
  {
   "cell_type": "code",
   "execution_count": 20,
   "id": "636a9bb9-d610-4aa5-972c-77b1cd4e1b97",
   "metadata": {},
   "outputs": [
    {
     "data": {
      "text/plain": [
       "Field of study\n",
       "Business, management and public administration        69\n",
       "Education                                             69\n",
       "Architecture, engineering and related technologies    69\n",
       "Health and related fields                             69\n",
       "Arts and humanities                                   69\n",
       "Mathematics, computer and information sciences        69\n",
       "Social and behavioural sciences and law               69\n",
       "Name: count, dtype: int64"
      ]
     },
     "execution_count": 20,
     "metadata": {},
     "output_type": "execute_result"
    }
   ],
   "source": [
    "graduation_data[\"Field of study\"].value_counts()"
   ]
  },
  {
   "cell_type": "code",
   "execution_count": 21,
   "id": "0f5bc176-4775-4303-9c88-a6ecf80cfcfe",
   "metadata": {},
   "outputs": [],
   "source": [
    "# Standardized field list from graduation data\n",
    "standard_fields = [\n",
    "    \"Business, management and public administration\",\n",
    "    \"Education\",\n",
    "    \"Architecture, engineering and related technologies\",\n",
    "    \"Health and related fields\",\n",
    "    \"Humanities\",\n",
    "    \"Mathematics, computer and information sciences\",\n",
    "    \"Social and behavioural sciences and law\"\n",
    "]"
   ]
  },
  {
   "cell_type": "code",
   "execution_count": 22,
   "id": "29ad8155-f50d-47ee-b0b6-4033ac4193e6",
   "metadata": {},
   "outputs": [],
   "source": [
    "# Mapping dictionaries\n",
    "field_mapping = {\n",
    "    \"Architecture\": \"Architecture, engineering and related technologies\",\n",
    "    \"Engineering\": \"Architecture, engineering and related technologies\",\n",
    "    \"Architecture, engineering, and related technologies\": \"Architecture, engineering and related technologies\",\n",
    "    \"Mathematics, computer and information sciences\": \"Mathematics, computer and information sciences\",\n",
    "    \"Mathematics and computer and information sciences\": \"Mathematics, computer and information sciences\",\n",
    "    \"Health care\": \"Health and related fields\",\n",
    "    \"Medicine\": \"Health and related fields\",\n",
    "    \"Nursing\": \"Health and related fields\",\n",
    "    \"Dentistry\": \"Health and related fields\",\n",
    "    \"Veterinary medicine\": \"Health and related fields\",\n",
    "    \"Pharmacy\": \"Health and related fields\",\n",
    "    \"Other health, parks, recreation and fitness\": \"Health and related fields\",\n",
    "    \"Humanities\": \"Arts and humanities\",\n",
    "    \"Arts and humanities\": \"Arts and humanities\",\n",
    "    \"Visual and performing arts, and communications technologies\": \"Arts and humanities\",\n",
    "    \"Social and behavioural sciences, and legal studies\": \"Social and behavioural sciences and law\",\n",
    "    \"Social and behavioural sciences and law\": \"Social and behavioural sciences and law\",\n",
    "    \"Social and behavioural sciences\": \"Social and behavioural sciences and law\",\n",
    "    \"Social and behavioural sciences, and legal studies\": \"Social and behavioural sciences and law\",\n",
    "    \"Law\": \"Social and behavioural sciences and law\",\n",
    "    \"Legal professions and studies\": \"Social and behavioural sciences and law\",\n",
    "    \"Business and administration\": \"Business, management and public administration\",\n",
    "    \"Business, management and public administration\": \"Business, management and public administration\",\n",
    "    \"Education and teaching\": \"Education\",\n",
    "    \"Education\": \"Education\",\n",
    "    \"Physical and life sciences and technologies\": \"Architecture, engineering and related technologies\",\n",
    "    \"Science and science technology\": \"Architecture, engineering and related technologies\",\n",
    "    \"Agriculture, natural resources and conservation\": \"Architecture, engineering and related technologies\",\n",
    "    \"Trades, services, natural resources and conservation\": \"Architecture, engineering and related technologies\",\n",
    "    \"Personal, protective and transportation services\": \"Architecture, engineering and related technologies\",\n",
    "    \"Executive MBA\": \"Business, management and public administration\",\n",
    "    \"Regular MBA\": \"Business, management and public administration\",\n",
    "    \"Optometry\": \"Health and related fields\",\n",
    "    \"Other\": \"Other\"\n",
    "}"
   ]
  },
  {
   "cell_type": "code",
   "execution_count": 23,
   "id": "3c8feef9-2352-473c-8c8d-ff63ff509957",
   "metadata": {},
   "outputs": [],
   "source": [
    "def normalize_field(df, values):\n",
    "    df[\"Field of study\"] = df[\"Field of study\"].map(field_mapping).fillna(df[\"Field of study\"])\n",
    "    df = df[df[\"Field of study\"].isin(values)].copy()\n",
    "\n",
    "    # Simplify field of study titles\n",
    "    df[\"Field of study\"] = df[\"Field of study\"].replace({\n",
    "        \"Architecture, engineering and related technologies\": \"Architecture & Engineering\",\n",
    "        \"Arts and humanities\": \"Arts and Humanities\",\n",
    "        \"Business, management and public administration\": \"Business & Public Admin\",\n",
    "        \"Education\": \"Education\",\n",
    "        \"Health and related fields\": \"Health\",\n",
    "        \"Mathematics, computer and information sciences\": \"Mathematics & CIS\",\n",
    "        \"Social and behavioural sciences and law\": \"Social Sciences and Law\"\n",
    "    })\n",
    "    \n",
    "    return df"
   ]
  },
  {
   "cell_type": "code",
   "execution_count": 24,
   "id": "ce633b7f-a3b9-4851-a7d4-bdcdd777354b",
   "metadata": {},
   "outputs": [],
   "source": [
    "graduation_fields = graduation_data[\"Field of study\"].unique()"
   ]
  },
  {
   "cell_type": "code",
   "execution_count": 25,
   "id": "0780c798-6e74-4318-b039-72a9d3c6912b",
   "metadata": {},
   "outputs": [],
   "source": [
    "tuition_data = normalize_field(tuition_data, graduation_fields)\n",
    "income_data = normalize_field(income_data, graduation_fields)\n",
    "labour_data = normalize_field(labour_data, graduation_fields)\n",
    "graduation_data = normalize_field(graduation_data, graduation_fields)"
   ]
  },
  {
   "cell_type": "code",
   "execution_count": 26,
   "id": "62dac3e3-0922-4538-9066-fe85659af30e",
   "metadata": {},
   "outputs": [
    {
     "data": {
      "text/plain": [
       "Field of study\n",
       "Architecture & Engineering    69\n",
       "Arts and Humanities           69\n",
       "Business & Public Admin       69\n",
       "Education                     69\n",
       "Health                        69\n",
       "Mathematics & CIS             69\n",
       "Social Sciences and Law       69\n",
       "Name: count, dtype: int64"
      ]
     },
     "execution_count": 26,
     "metadata": {},
     "output_type": "execute_result"
    }
   ],
   "source": [
    "graduation_data[\"Field of study\"].value_counts().sort_index()"
   ]
  },
  {
   "cell_type": "code",
   "execution_count": 27,
   "id": "96b9f260-5853-4478-ac5f-564202ea68fe",
   "metadata": {},
   "outputs": [
    {
     "data": {
      "text/plain": [
       "Field of study\n",
       "Architecture & Engineering    172\n",
       "Arts and Humanities            76\n",
       "Business & Public Admin        74\n",
       "Education                      38\n",
       "Health                        234\n",
       "Mathematics & CIS              38\n",
       "Social Sciences and Law        57\n",
       "Name: count, dtype: int64"
      ]
     },
     "execution_count": 27,
     "metadata": {},
     "output_type": "execute_result"
    }
   ],
   "source": [
    "tuition_data[\"Field of study\"].value_counts().sort_index()"
   ]
  },
  {
   "cell_type": "code",
   "execution_count": 28,
   "id": "6255b489-23bf-4de8-ac61-80efaf538056",
   "metadata": {},
   "outputs": [
    {
     "data": {
      "text/plain": [
       "Field of study\n",
       "Architecture & Engineering    128\n",
       "Arts and Humanities            66\n",
       "Business & Public Admin        33\n",
       "Education                      33\n",
       "Health                         33\n",
       "Mathematics & CIS              33\n",
       "Social Sciences and Law        33\n",
       "Name: count, dtype: int64"
      ]
     },
     "execution_count": 28,
     "metadata": {},
     "output_type": "execute_result"
    }
   ],
   "source": [
    "income_data[\"Field of study\"].value_counts().sort_index()"
   ]
  },
  {
   "cell_type": "code",
   "execution_count": 29,
   "id": "e6f7dd89-7fac-4dca-8f48-fa02cbfac949",
   "metadata": {},
   "outputs": [
    {
     "data": {
      "text/plain": [
       "Field of study\n",
       "Architecture & Engineering    12\n",
       "Arts and Humanities            6\n",
       "Business & Public Admin        3\n",
       "Education                      3\n",
       "Health                         3\n",
       "Mathematics & CIS              3\n",
       "Social Sciences and Law        3\n",
       "Name: count, dtype: int64"
      ]
     },
     "execution_count": 29,
     "metadata": {},
     "output_type": "execute_result"
    }
   ],
   "source": [
    "labour_data[\"Field of study\"].value_counts().sort_index()"
   ]
  },
  {
   "cell_type": "markdown",
   "id": "b38a9619-ff60-4df1-ad69-cd1b7f25eeea",
   "metadata": {},
   "source": [
    "### Normalize and Aggregate Values by `Field of study`\n",
    "We aggregate data by standardized Field of study to enable consistent comparisons across multiple datasets—labour market outcomes, tuition costs, graduation numbers, and median employment income. Each dataset originally used slightly different field labels, so harmonizing and aggregating them ensures that insights are drawn from aligned categories. This approach allows us to evaluate trends and relationships—such as how employment outcomes or tuition costs vary by field—using a unified framework that avoids mismatches and duplication."
   ]
  },
  {
   "cell_type": "markdown",
   "id": "b89ed61d-87d3-4342-a698-230245c5a60d",
   "metadata": {},
   "source": [
    "#### Aggregate tution cost per Field of study."
   ]
  },
  {
   "cell_type": "code",
   "execution_count": 30,
   "id": "3dbb5932-9955-4760-a6ca-d524b384aa97",
   "metadata": {},
   "outputs": [
    {
     "data": {
      "text/plain": [
       "Education\n",
       "Graduate         352\n",
       "Undergraduate    337\n",
       "Name: count, dtype: int64"
      ]
     },
     "execution_count": 30,
     "metadata": {},
     "output_type": "execute_result"
    }
   ],
   "source": [
    "tuition_data[\"Education\"].value_counts()"
   ]
  },
  {
   "cell_type": "code",
   "execution_count": 31,
   "id": "18c1ee22-743e-426b-bf28-30e2cac41b18",
   "metadata": {},
   "outputs": [],
   "source": [
    "tuition_data = tuition_data.groupby([\"Year\", \"Education\", \"Field of study\"], as_index=False).mean([\"Tuition\"])"
   ]
  },
  {
   "cell_type": "code",
   "execution_count": 32,
   "id": "a2b631eb-28f1-41de-a46b-e1f193895d56",
   "metadata": {},
   "outputs": [
    {
     "data": {
      "text/html": [
       "<div>\n",
       "<style scoped>\n",
       "    .dataframe tbody tr th:only-of-type {\n",
       "        vertical-align: middle;\n",
       "    }\n",
       "\n",
       "    .dataframe tbody tr th {\n",
       "        vertical-align: top;\n",
       "    }\n",
       "\n",
       "    .dataframe thead th {\n",
       "        text-align: right;\n",
       "    }\n",
       "</style>\n",
       "<table border=\"1\" class=\"dataframe\">\n",
       "  <thead>\n",
       "    <tr style=\"text-align: right;\">\n",
       "      <th></th>\n",
       "      <th>Year</th>\n",
       "      <th>Education</th>\n",
       "      <th>Field of study</th>\n",
       "      <th>Tuition</th>\n",
       "    </tr>\n",
       "  </thead>\n",
       "  <tbody>\n",
       "    <tr>\n",
       "      <th>0</th>\n",
       "      <td>2006</td>\n",
       "      <td>Graduate</td>\n",
       "      <td>Architecture &amp; Engineering</td>\n",
       "      <td>3826.75</td>\n",
       "    </tr>\n",
       "    <tr>\n",
       "      <th>1</th>\n",
       "      <td>2006</td>\n",
       "      <td>Graduate</td>\n",
       "      <td>Arts and Humanities</td>\n",
       "      <td>3605.00</td>\n",
       "    </tr>\n",
       "    <tr>\n",
       "      <th>2</th>\n",
       "      <td>2006</td>\n",
       "      <td>Graduate</td>\n",
       "      <td>Business &amp; Public Admin</td>\n",
       "      <td>14879.00</td>\n",
       "    </tr>\n",
       "    <tr>\n",
       "      <th>3</th>\n",
       "      <td>2006</td>\n",
       "      <td>Graduate</td>\n",
       "      <td>Education</td>\n",
       "      <td>4627.00</td>\n",
       "    </tr>\n",
       "    <tr>\n",
       "      <th>4</th>\n",
       "      <td>2006</td>\n",
       "      <td>Graduate</td>\n",
       "      <td>Health</td>\n",
       "      <td>5812.50</td>\n",
       "    </tr>\n",
       "  </tbody>\n",
       "</table>\n",
       "</div>"
      ],
      "text/plain": [
       "   Year Education              Field of study   Tuition\n",
       "0  2006  Graduate  Architecture & Engineering   3826.75\n",
       "1  2006  Graduate         Arts and Humanities   3605.00\n",
       "2  2006  Graduate     Business & Public Admin  14879.00\n",
       "3  2006  Graduate                   Education   4627.00\n",
       "4  2006  Graduate                      Health   5812.50"
      ]
     },
     "execution_count": 32,
     "metadata": {},
     "output_type": "execute_result"
    }
   ],
   "source": [
    "tuition_data.head()"
   ]
  },
  {
   "cell_type": "markdown",
   "id": "22bb00e0-4961-4efd-a737-fefc49fb462a",
   "metadata": {},
   "source": [
    "#### Aggregate median income per Field of study."
   ]
  },
  {
   "cell_type": "code",
   "execution_count": 33,
   "id": "2a2f1a90-2cee-4281-a910-7a406ef0739f",
   "metadata": {},
   "outputs": [
    {
     "data": {
      "text/plain": [
       "Education\n",
       "Bachelor’s or equivalent    121\n",
       "Master's or equivalent      121\n",
       "Doctoral or equivalent      117\n",
       "Name: count, dtype: int64"
      ]
     },
     "execution_count": 33,
     "metadata": {},
     "output_type": "execute_result"
    }
   ],
   "source": [
    "income_data[\"Education\"].value_counts()"
   ]
  },
  {
   "cell_type": "code",
   "execution_count": 34,
   "id": "1e9b61de-2e07-4905-81be-e406928b11fb",
   "metadata": {},
   "outputs": [],
   "source": [
    "income_data = income_data.groupby(\n",
    "    [\"Graduation Year\", \"Education\", \"Survey Year\", \"Field of study\"], \n",
    "    as_index=False).median([\"Median income (2Y)\"])"
   ]
  },
  {
   "cell_type": "code",
   "execution_count": 35,
   "id": "a2ad3bfd-0a79-4aae-a5df-e845a1c4ea29",
   "metadata": {},
   "outputs": [
    {
     "data": {
      "text/html": [
       "<div>\n",
       "<style scoped>\n",
       "    .dataframe tbody tr th:only-of-type {\n",
       "        vertical-align: middle;\n",
       "    }\n",
       "\n",
       "    .dataframe tbody tr th {\n",
       "        vertical-align: top;\n",
       "    }\n",
       "\n",
       "    .dataframe thead th {\n",
       "        text-align: right;\n",
       "    }\n",
       "</style>\n",
       "<table border=\"1\" class=\"dataframe\">\n",
       "  <thead>\n",
       "    <tr style=\"text-align: right;\">\n",
       "      <th></th>\n",
       "      <th>Graduation Year</th>\n",
       "      <th>Education</th>\n",
       "      <th>Survey Year</th>\n",
       "      <th>Field of study</th>\n",
       "      <th>Median income</th>\n",
       "    </tr>\n",
       "  </thead>\n",
       "  <tbody>\n",
       "    <tr>\n",
       "      <th>0</th>\n",
       "      <td>2010</td>\n",
       "      <td>Bachelor’s or equivalent</td>\n",
       "      <td>2012</td>\n",
       "      <td>Architecture &amp; Engineering</td>\n",
       "      <td>58650.0</td>\n",
       "    </tr>\n",
       "    <tr>\n",
       "      <th>1</th>\n",
       "      <td>2010</td>\n",
       "      <td>Bachelor’s or equivalent</td>\n",
       "      <td>2012</td>\n",
       "      <td>Arts and Humanities</td>\n",
       "      <td>35900.0</td>\n",
       "    </tr>\n",
       "    <tr>\n",
       "      <th>2</th>\n",
       "      <td>2010</td>\n",
       "      <td>Bachelor’s or equivalent</td>\n",
       "      <td>2012</td>\n",
       "      <td>Business &amp; Public Admin</td>\n",
       "      <td>56700.0</td>\n",
       "    </tr>\n",
       "    <tr>\n",
       "      <th>3</th>\n",
       "      <td>2010</td>\n",
       "      <td>Bachelor’s or equivalent</td>\n",
       "      <td>2012</td>\n",
       "      <td>Education</td>\n",
       "      <td>51200.0</td>\n",
       "    </tr>\n",
       "    <tr>\n",
       "      <th>4</th>\n",
       "      <td>2010</td>\n",
       "      <td>Bachelor’s or equivalent</td>\n",
       "      <td>2012</td>\n",
       "      <td>Health</td>\n",
       "      <td>65200.0</td>\n",
       "    </tr>\n",
       "  </tbody>\n",
       "</table>\n",
       "</div>"
      ],
      "text/plain": [
       "   Graduation Year                 Education  Survey Year  \\\n",
       "0             2010  Bachelor’s or equivalent         2012   \n",
       "1             2010  Bachelor’s or equivalent         2012   \n",
       "2             2010  Bachelor’s or equivalent         2012   \n",
       "3             2010  Bachelor’s or equivalent         2012   \n",
       "4             2010  Bachelor’s or equivalent         2012   \n",
       "\n",
       "               Field of study  Median income  \n",
       "0  Architecture & Engineering        58650.0  \n",
       "1         Arts and Humanities        35900.0  \n",
       "2     Business & Public Admin        56700.0  \n",
       "3                   Education        51200.0  \n",
       "4                      Health        65200.0  "
      ]
     },
     "execution_count": 35,
     "metadata": {},
     "output_type": "execute_result"
    }
   ],
   "source": [
    "income_data.head()"
   ]
  },
  {
   "cell_type": "markdown",
   "id": "fbe9ccd3-6d43-4acb-b32f-6696a13bd7b9",
   "metadata": {},
   "source": [
    "#### Aggregate median income per Field of study.\n",
    "\n",
    "To accurately assess labor market outcomes by field of study, raw counts must be aggregated to calculate population-weighted rates. This function first computes participation, employment, and unemployment rates at the individual record level, then aggregates the data by year and field of study. It recalculates the rates using summed counts to avoid distortions from averaging percentages, ensuring accurate comparisons across fields."
   ]
  },
  {
   "cell_type": "code",
   "execution_count": 36,
   "id": "bc107c77-9276-4bef-acce-fff84a419d12",
   "metadata": {},
   "outputs": [],
   "source": [
    "cols_to_convert = [\n",
    "    'In the labour force',\n",
    "    'Employed',\n",
    "    'Unemployed',\n",
    "    'Not in the labour force'\n",
    "]\n",
    "\n",
    "# Clean and convert\n",
    "for col in cols_to_convert:\n",
    "    labour_data[col] = labour_data[col].astype(str).str.replace(',', '').str.strip()\n",
    "    labour_data[col] = pd.to_numeric(labour_data[col], errors='coerce')"
   ]
  },
  {
   "cell_type": "code",
   "execution_count": 37,
   "id": "087e8de0-4e1a-4dbe-8c81-f2aeb403be9e",
   "metadata": {},
   "outputs": [],
   "source": [
    "def aggregate_labour_rates(df):\n",
    "    # Step 1: Copy and compute working-age population\n",
    "    df_ = df.copy()\n",
    "    df_['Population (25%)'] = df_['In the labour force'] + df_['Not in the labour force']\n",
    "    \n",
    "    # Step 2: Recalculate accurate rates for each row (optional)\n",
    "    df_['Participation rate'] = df_['In the labour force'] / df_['Population (25%)'] * 100\n",
    "    df_['Employment rate'] = df_['Employed'] / df_['Population (25%)'] * 100\n",
    "    df_['Unemployment rate'] = df_['Unemployed'] / df_['In the labour force'] * 100\n",
    "    \n",
    "    # Step 3: Aggregate raw counts by Year and Field of study\n",
    "    agg = df_.groupby(['Year', 'Field of study']).agg({\n",
    "        'In the labour force': 'sum',\n",
    "        'Employed': 'sum',\n",
    "        'Unemployed': 'sum',\n",
    "        'Not in the labour force': 'sum'\n",
    "    }).reset_index()\n",
    "    \n",
    "    # Step 4: Recalculate accurate weighted rates after aggregation\n",
    "    agg['Population (25%)'] = agg['In the labour force'] + agg['Not in the labour force']\n",
    "    agg['Participation rate'] = round(agg['In the labour force'] / agg['Population (25%)'] * 100, 2)\n",
    "    agg['Employment rate'] = round(agg['Employed'] / agg['Population (25%)'] * 100, 2)\n",
    "    agg['Unemployment rate'] = round(agg['Unemployed'] / agg['In the labour force'] * 100, 2)\n",
    "\n",
    "    agg = agg.rename(columns={\"Employed\": \"Employed (25%)\"})\n",
    "    \n",
    "    # Optional: reorder columns for clarity\n",
    "    return agg[[\n",
    "        'Year', 'Field of study', 'Population (25%)', 'Employed (25%)',\n",
    "        'Participation rate', 'Employment rate', 'Unemployment rate'\n",
    "    ]]"
   ]
  },
  {
   "cell_type": "code",
   "execution_count": 38,
   "id": "0b5321c7-70c4-4895-a1ad-27fe68881d32",
   "metadata": {
    "scrolled": true
   },
   "outputs": [],
   "source": [
    "labour_data = aggregate_labour_rates(labour_data)"
   ]
  },
  {
   "cell_type": "code",
   "execution_count": 39,
   "id": "079dd98d-5487-430f-87e5-b8ea42c9f1e0",
   "metadata": {},
   "outputs": [
    {
     "data": {
      "text/html": [
       "<div>\n",
       "<style scoped>\n",
       "    .dataframe tbody tr th:only-of-type {\n",
       "        vertical-align: middle;\n",
       "    }\n",
       "\n",
       "    .dataframe tbody tr th {\n",
       "        vertical-align: top;\n",
       "    }\n",
       "\n",
       "    .dataframe thead th {\n",
       "        text-align: right;\n",
       "    }\n",
       "</style>\n",
       "<table border=\"1\" class=\"dataframe\">\n",
       "  <thead>\n",
       "    <tr style=\"text-align: right;\">\n",
       "      <th></th>\n",
       "      <th>Year</th>\n",
       "      <th>Field of study</th>\n",
       "      <th>Population (25%)</th>\n",
       "      <th>Employed (25%)</th>\n",
       "      <th>Participation rate</th>\n",
       "      <th>Employment rate</th>\n",
       "      <th>Unemployment rate</th>\n",
       "    </tr>\n",
       "  </thead>\n",
       "  <tbody>\n",
       "    <tr>\n",
       "      <th>0</th>\n",
       "      <td>2011</td>\n",
       "      <td>Architecture &amp; Engineering</td>\n",
       "      <td>1193185</td>\n",
       "      <td>898205</td>\n",
       "      <td>79.82</td>\n",
       "      <td>75.28</td>\n",
       "      <td>5.69</td>\n",
       "    </tr>\n",
       "    <tr>\n",
       "      <th>1</th>\n",
       "      <td>2011</td>\n",
       "      <td>Arts and Humanities</td>\n",
       "      <td>732365</td>\n",
       "      <td>512570</td>\n",
       "      <td>74.95</td>\n",
       "      <td>69.99</td>\n",
       "      <td>6.62</td>\n",
       "    </tr>\n",
       "    <tr>\n",
       "      <th>2</th>\n",
       "      <td>2011</td>\n",
       "      <td>Business &amp; Public Admin</td>\n",
       "      <td>1084560</td>\n",
       "      <td>869455</td>\n",
       "      <td>84.43</td>\n",
       "      <td>80.17</td>\n",
       "      <td>5.05</td>\n",
       "    </tr>\n",
       "    <tr>\n",
       "      <th>3</th>\n",
       "      <td>2011</td>\n",
       "      <td>Education</td>\n",
       "      <td>814420</td>\n",
       "      <td>561970</td>\n",
       "      <td>71.41</td>\n",
       "      <td>69.00</td>\n",
       "      <td>3.37</td>\n",
       "    </tr>\n",
       "    <tr>\n",
       "      <th>4</th>\n",
       "      <td>2011</td>\n",
       "      <td>Health</td>\n",
       "      <td>671290</td>\n",
       "      <td>516825</td>\n",
       "      <td>79.93</td>\n",
       "      <td>76.99</td>\n",
       "      <td>3.67</td>\n",
       "    </tr>\n",
       "  </tbody>\n",
       "</table>\n",
       "</div>"
      ],
      "text/plain": [
       "   Year              Field of study  Population (25%)  Employed (25%)  \\\n",
       "0  2011  Architecture & Engineering           1193185          898205   \n",
       "1  2011         Arts and Humanities            732365          512570   \n",
       "2  2011     Business & Public Admin           1084560          869455   \n",
       "3  2011                   Education            814420          561970   \n",
       "4  2011                      Health            671290          516825   \n",
       "\n",
       "   Participation rate  Employment rate  Unemployment rate  \n",
       "0               79.82            75.28               5.69  \n",
       "1               74.95            69.99               6.62  \n",
       "2               84.43            80.17               5.05  \n",
       "3               71.41            69.00               3.37  \n",
       "4               79.93            76.99               3.67  "
      ]
     },
     "execution_count": 39,
     "metadata": {},
     "output_type": "execute_result"
    }
   ],
   "source": [
    "labour_data.head()"
   ]
  },
  {
   "cell_type": "markdown",
   "id": "d69c5e8d-8f5b-46dd-92ee-7578678a334d",
   "metadata": {},
   "source": [
    "### Convert Dollar Amounts\n",
    "According to Statistique Canada, the [2024 CPI](https://www.statcan.gc.ca/en/subjects-start/prices_and_price_indexes/consumer_price_indexes) was 160.9 while it was 151.2 in [2022](https://www150.statcan.gc.ca/n1/daily-quotidien/230117/dq230117b-eng.htm)"
   ]
  },
  {
   "cell_type": "code",
   "execution_count": 40,
   "id": "aee52625-b1f7-4792-8fee-3338df54fbba",
   "metadata": {},
   "outputs": [],
   "source": [
    "def to_current_dollar(amount, cpi, curr_cpi):\n",
    "    return amount * (curr_cpi / cpi)"
   ]
  },
  {
   "cell_type": "code",
   "execution_count": 41,
   "id": "0549b98e-e155-4ac5-a993-84aebba73bd6",
   "metadata": {},
   "outputs": [],
   "source": [
    "tuition_data[\"Tuition (2024 dollar)\"] = to_current_dollar(tuition_data[\"Tuition\"], cpi=151.2, curr_cpi=160.9)"
   ]
  },
  {
   "cell_type": "markdown",
   "id": "845bc82d-3197-4ac0-8994-5b2b8332fb6c",
   "metadata": {},
   "source": [
    "### 2.4. Assign `Education Level Group`\n",
    "Since the tuition data is less granular and combines all graduate-level education into a single category, we introduce a new variable, `Education Level Group`, to align education levels across datasets and enable consistent mapping."
   ]
  },
  {
   "cell_type": "code",
   "execution_count": 42,
   "id": "0a2cafc6-b989-40f1-86d4-fac0914d20f3",
   "metadata": {},
   "outputs": [],
   "source": [
    "tuition_data = tuition_data.rename(columns={\"Education\": \"Education Level Group\"})"
   ]
  },
  {
   "cell_type": "code",
   "execution_count": 43,
   "id": "8a2bfe95-910b-47a1-b8ec-4fc5cc711d88",
   "metadata": {},
   "outputs": [],
   "source": [
    "def assign_education_level_group(education):\n",
    "    if education == \"Bachelor's or equivalent\":\n",
    "        return \"Undergraduate\"\n",
    "    elif education == \"Master's or equivalent\" or education == \"Doctoral or equivalent\":\n",
    "        return \"Graduate\"\n",
    "    raise Exception(f\"'{education}' is not recognozed\")"
   ]
  },
  {
   "cell_type": "markdown",
   "id": "4d7dc51d-41d5-4bba-9fd2-057685bf2150",
   "metadata": {},
   "source": [
    "### Accumulate number of graduates\n",
    "To better approximate the number of graduates actively participating in the workforce, we computed a 5-year rolling sum of graduates (`Graduates (5Y)`) for each year. This method assumes that most graduates remain within their field for at least five years before potentially exiting, switching careers, or pursuing further education."
   ]
  },
  {
   "cell_type": "code",
   "execution_count": 44,
   "id": "7600ffad-d03b-4cf4-adc7-3b83aa3b048b",
   "metadata": {},
   "outputs": [],
   "source": [
    "# Ensure the data is sorted by 'Field of study' and 'Year'\n",
    "graduation_data = graduation_data.sort_values(by=[\"Field of study\", \"Year\"])\n",
    "\n",
    "# Compute 5-year cumulative number of grads\n",
    "graduation_data[\"Graduates (5Y)\"] = (\n",
    "    graduation_data.groupby(\"Field of study\")[\"Graduates\"]\n",
    "    .rolling(window=5, min_periods=5)\n",
    "    .sum()\n",
    "    .reset_index(level=0, drop=True)\n",
    ")"
   ]
  },
  {
   "cell_type": "markdown",
   "id": "3a6f411d-2c9a-46f1-8ccb-7acae1c73a2f",
   "metadata": {},
   "source": [
    "## Save data"
   ]
  },
  {
   "cell_type": "markdown",
   "id": "82223242-8b0a-43ef-ac1d-9e447d3489ab",
   "metadata": {},
   "source": [
    "### Creating Final Datasets\n",
    "To effectively evaluate the return on investment and real-world value of higher education by field of study, we constructed two aligned datasets. The first dataset combines tuition costs, graduation counts, and median income (five years post-graduation) across all postsecondary education levels, aggregated by Year and Field of study. This enables us to analyze the economic outcomes of different disciplines based on what graduates typically pay, how many enter the workforce, and what they earn after gaining moderate experience. We also include a Census Year column, which links each observation year to the closest available labour market snapshot from the Canadian census (2011, 2016, 2021). The second dataset contains these census-based labour outcomes, including participation, employment, and unemployment rates by Field of study. By aligning both datasets on Census Year and Field of study, we enable cross-sectional analysis of how education supply, cost, and income align with real-world employment conditions over time."
   ]
  },
  {
   "cell_type": "code",
   "execution_count": 45,
   "id": "3e270d2c-6785-489a-8c4c-e3ffedc5a349",
   "metadata": {},
   "outputs": [],
   "source": [
    "income_data.rename(columns={\"Survey Year\": \"Year\"}, inplace=True)"
   ]
  },
  {
   "cell_type": "code",
   "execution_count": 46,
   "id": "4ca23195-0334-4fdf-ab57-25b05b19685a",
   "metadata": {},
   "outputs": [],
   "source": [
    "graduation_data[\"Education\"] = graduation_data[\"Education\"].str.replace(\"’\", \"'\", regex=False)\n",
    "income_data[\"Education\"] = income_data[\"Education\"].str.replace(\"’\", \"'\", regex=False)"
   ]
  },
  {
   "cell_type": "code",
   "execution_count": 47,
   "id": "d4c421d5-0cdc-4f12-a408-62583aa83fec",
   "metadata": {},
   "outputs": [],
   "source": [
    "# Merge graduation data and income data\n",
    "combined = graduation_data.merge(\n",
    "    income_data,\n",
    "    left_on=[\"Year\", \"Field of study\", \"Education\"],\n",
    "    right_on=[\"Year\", \"Field of study\", \"Education\"],\n",
    "    how=\"left\"\n",
    ")"
   ]
  },
  {
   "cell_type": "code",
   "execution_count": 48,
   "id": "d8eec401-1d5c-4ad7-b181-5d5fbcad8ecf",
   "metadata": {},
   "outputs": [],
   "source": [
    "combined[\"Education Level Group\"] = combined[\"Education\"].apply(assign_education_level_group)"
   ]
  },
  {
   "cell_type": "code",
   "execution_count": 49,
   "id": "3977102d-b7eb-439e-9ba4-bb28022907d3",
   "metadata": {},
   "outputs": [],
   "source": [
    "# Merge tuition\n",
    "combined = combined.merge(\n",
    "    tuition_data,\n",
    "    left_on=[\"Year\", \"Field of study\", \"Education Level Group\"],\n",
    "    right_on=[\"Year\", \"Field of study\", \"Education Level Group\"],\n",
    "    how=\"left\"\n",
    ")"
   ]
  },
  {
   "cell_type": "markdown",
   "id": "059e2c8a-5f58-485f-a973-c3b12eb3e45c",
   "metadata": {},
   "source": [
    "We use a function to assign each observation year to its nearest Canadian census year (2001, 2006, 2011, 2016, 2021, or 2026). Since detailed labour market data is only available for these census years, this mapping ensures that each year in our dataset is aligned with the most representative labour conditions. By grouping years around their closest census year, we maintain temporal coherence and enable meaningful comparisons between graduate outcomes and labour market indicators, even when data sources differ in granularity or update frequency."
   ]
  },
  {
   "cell_type": "code",
   "execution_count": 50,
   "id": "72041432-9f8b-4f1c-a446-11945ae31b6b",
   "metadata": {},
   "outputs": [],
   "source": [
    "def map_to_census_year(year):\n",
    "    if 2000 <= year <= 2003:\n",
    "        return 2001\n",
    "    elif 2004 <= year <= 2008:\n",
    "        return 2006\n",
    "    elif 2009 <= year <= 2013:\n",
    "        return 2011\n",
    "    elif 2014 <= year <= 2017:\n",
    "        return 2016\n",
    "    elif 2018 <= year <= 2022:\n",
    "        return 2021\n",
    "    elif 2023 <= year <= 2027:\n",
    "        return 2026\n",
    "    else:\n",
    "        return None"
   ]
  },
  {
   "cell_type": "code",
   "execution_count": 51,
   "id": "d652d558-d78f-4df7-b839-85216e35f524",
   "metadata": {},
   "outputs": [],
   "source": [
    "# Add Census Year\n",
    "combined[\"Census Year\"] = combined[\"Year\"].apply(map_to_census_year)"
   ]
  },
  {
   "cell_type": "markdown",
   "id": "74c394c2-9b9c-4504-b993-0e9bf52704a1",
   "metadata": {},
   "source": [
    "### Save to CSV File"
   ]
  },
  {
   "cell_type": "markdown",
   "id": "a6644bd4-512f-4d78-a8f9-314453b5a728",
   "metadata": {},
   "source": [
    "Save combined education and income data"
   ]
  },
  {
   "cell_type": "code",
   "execution_count": 52,
   "id": "86ca2677-d849-4f61-8f0d-420e9ee80986",
   "metadata": {},
   "outputs": [
    {
     "name": "stdout",
     "output_type": "stream",
     "text": [
      "<class 'pandas.core.frame.DataFrame'>\n",
      "RangeIndex: 483 entries, 0 to 482\n",
      "Data columns (total 11 columns):\n",
      " #   Column                 Non-Null Count  Dtype  \n",
      "---  ------                 --------------  -----  \n",
      " 0   Year                   483 non-null    int64  \n",
      " 1   Field of study         483 non-null    object \n",
      " 2   Graduates              483 non-null    float64\n",
      " 3   Education              483 non-null    object \n",
      " 4   Graduates (5Y)         455 non-null    float64\n",
      " 5   Graduation Year        231 non-null    float64\n",
      " 6   Median income          231 non-null    float64\n",
      " 7   Education Level Group  483 non-null    object \n",
      " 8   Tuition                357 non-null    float64\n",
      " 9   Tuition (2024 dollar)  357 non-null    float64\n",
      " 10  Census Year            483 non-null    int64  \n",
      "dtypes: float64(6), int64(2), object(3)\n",
      "memory usage: 41.6+ KB\n"
     ]
    }
   ],
   "source": [
    "combined.info()"
   ]
  },
  {
   "cell_type": "code",
   "execution_count": 54,
   "id": "64ee012a-0f3c-4d1e-840f-f6e11fbba7bf",
   "metadata": {},
   "outputs": [],
   "source": [
    "combined = combined[[\n",
    "    \"Year\", \"Census Year\", \"Field of study\", \"Education\", \"Education Level Group\", \n",
    "    \"Graduates\", \"Graduates (5Y)\", \"Tuition (2024 dollar)\", \"Median income\"\n",
    "]].rename(columns={\n",
    "    \"Census Year\": \"Nearest Census Year\",\n",
    "    \"Tuition (2024 dollar)\": \"Tuition\"\n",
    "})"
   ]
  },
  {
   "cell_type": "code",
   "execution_count": 62,
   "id": "0cba743d-a3eb-4556-8218-5534a117bf05",
   "metadata": {},
   "outputs": [
    {
     "data": {
      "text/html": [
       "<div>\n",
       "<style scoped>\n",
       "    .dataframe tbody tr th:only-of-type {\n",
       "        vertical-align: middle;\n",
       "    }\n",
       "\n",
       "    .dataframe tbody tr th {\n",
       "        vertical-align: top;\n",
       "    }\n",
       "\n",
       "    .dataframe thead th {\n",
       "        text-align: right;\n",
       "    }\n",
       "</style>\n",
       "<table border=\"1\" class=\"dataframe\">\n",
       "  <thead>\n",
       "    <tr style=\"text-align: right;\">\n",
       "      <th></th>\n",
       "      <th>Year</th>\n",
       "      <th>Nearest Census Year</th>\n",
       "      <th>Field of study</th>\n",
       "      <th>Education</th>\n",
       "      <th>Education Level Group</th>\n",
       "      <th>Graduates</th>\n",
       "      <th>Graduates (5Y)</th>\n",
       "      <th>Tuition</th>\n",
       "      <th>Median income</th>\n",
       "    </tr>\n",
       "  </thead>\n",
       "  <tbody>\n",
       "    <tr>\n",
       "      <th>0</th>\n",
       "      <td>2000</td>\n",
       "      <td>2001</td>\n",
       "      <td>Architecture &amp; Engineering</td>\n",
       "      <td>Bachelor's or equivalent</td>\n",
       "      <td>Undergraduate</td>\n",
       "      <td>9843.0</td>\n",
       "      <td>NaN</td>\n",
       "      <td>NaN</td>\n",
       "      <td>NaN</td>\n",
       "    </tr>\n",
       "    <tr>\n",
       "      <th>1</th>\n",
       "      <td>2000</td>\n",
       "      <td>2001</td>\n",
       "      <td>Architecture &amp; Engineering</td>\n",
       "      <td>Master's or equivalent</td>\n",
       "      <td>Graduate</td>\n",
       "      <td>2415.0</td>\n",
       "      <td>NaN</td>\n",
       "      <td>NaN</td>\n",
       "      <td>NaN</td>\n",
       "    </tr>\n",
       "    <tr>\n",
       "      <th>2</th>\n",
       "      <td>2000</td>\n",
       "      <td>2001</td>\n",
       "      <td>Architecture &amp; Engineering</td>\n",
       "      <td>Doctoral or equivalent</td>\n",
       "      <td>Graduate</td>\n",
       "      <td>564.0</td>\n",
       "      <td>NaN</td>\n",
       "      <td>NaN</td>\n",
       "      <td>NaN</td>\n",
       "    </tr>\n",
       "  </tbody>\n",
       "</table>\n",
       "</div>"
      ],
      "text/plain": [
       "   Year  Nearest Census Year              Field of study  \\\n",
       "0  2000                 2001  Architecture & Engineering   \n",
       "1  2000                 2001  Architecture & Engineering   \n",
       "2  2000                 2001  Architecture & Engineering   \n",
       "\n",
       "                  Education Education Level Group  Graduates  Graduates (5Y)  \\\n",
       "0  Bachelor's or equivalent         Undergraduate     9843.0             NaN   \n",
       "1    Master's or equivalent              Graduate     2415.0             NaN   \n",
       "2    Doctoral or equivalent              Graduate      564.0             NaN   \n",
       "\n",
       "   Tuition  Median income  \n",
       "0      NaN            NaN  \n",
       "1      NaN            NaN  \n",
       "2      NaN            NaN  "
      ]
     },
     "execution_count": 62,
     "metadata": {},
     "output_type": "execute_result"
    }
   ],
   "source": [
    "combined.head(3)"
   ]
  },
  {
   "cell_type": "code",
   "execution_count": 60,
   "id": "18c39e15-0acf-4679-9290-23b9932cec90",
   "metadata": {},
   "outputs": [],
   "source": [
    "combined.to_csv(\"data/postsecondary_field_outcomes.csv\", index=False)"
   ]
  },
  {
   "cell_type": "markdown",
   "id": "1be29100-28c3-4555-b131-73d4f0e9b228",
   "metadata": {},
   "source": [
    "Save labour data"
   ]
  },
  {
   "cell_type": "code",
   "execution_count": 55,
   "id": "8f414710-0f80-4e50-a1b4-1fc01b3f32dd",
   "metadata": {},
   "outputs": [
    {
     "name": "stdout",
     "output_type": "stream",
     "text": [
      "<class 'pandas.core.frame.DataFrame'>\n",
      "RangeIndex: 21 entries, 0 to 20\n",
      "Data columns (total 7 columns):\n",
      " #   Column              Non-Null Count  Dtype  \n",
      "---  ------              --------------  -----  \n",
      " 0   Year                21 non-null     int64  \n",
      " 1   Field of study      21 non-null     object \n",
      " 2   Population (25%)    21 non-null     int64  \n",
      " 3   Employed (25%)      21 non-null     int64  \n",
      " 4   Participation rate  21 non-null     float64\n",
      " 5   Employment rate     21 non-null     float64\n",
      " 6   Unemployment rate   21 non-null     float64\n",
      "dtypes: float64(3), int64(3), object(1)\n",
      "memory usage: 1.3+ KB\n"
     ]
    }
   ],
   "source": [
    "labour_data.info()"
   ]
  },
  {
   "cell_type": "code",
   "execution_count": 56,
   "id": "f1d8e0dc-d39d-46e6-bbfc-8ec7b6a831d6",
   "metadata": {},
   "outputs": [],
   "source": [
    "labour_data = labour_data[[\n",
    "    \"Year\", \"Field of study\", \"Participation rate\",\n",
    "    \"Employment rate\", \"Unemployment rate\", \"Employed (25%)\"\n",
    "]].rename(columns={\"Year\": \"Census Year\"})"
   ]
  },
  {
   "cell_type": "code",
   "execution_count": 63,
   "id": "15b1200c-1d79-4380-9d85-aed29acc5d5f",
   "metadata": {},
   "outputs": [
    {
     "data": {
      "text/html": [
       "<div>\n",
       "<style scoped>\n",
       "    .dataframe tbody tr th:only-of-type {\n",
       "        vertical-align: middle;\n",
       "    }\n",
       "\n",
       "    .dataframe tbody tr th {\n",
       "        vertical-align: top;\n",
       "    }\n",
       "\n",
       "    .dataframe thead th {\n",
       "        text-align: right;\n",
       "    }\n",
       "</style>\n",
       "<table border=\"1\" class=\"dataframe\">\n",
       "  <thead>\n",
       "    <tr style=\"text-align: right;\">\n",
       "      <th></th>\n",
       "      <th>Census Year</th>\n",
       "      <th>Field of study</th>\n",
       "      <th>Participation rate</th>\n",
       "      <th>Employment rate</th>\n",
       "      <th>Unemployment rate</th>\n",
       "      <th>Employed (25%)</th>\n",
       "    </tr>\n",
       "  </thead>\n",
       "  <tbody>\n",
       "    <tr>\n",
       "      <th>0</th>\n",
       "      <td>2011</td>\n",
       "      <td>Architecture &amp; Engineering</td>\n",
       "      <td>79.82</td>\n",
       "      <td>75.28</td>\n",
       "      <td>5.69</td>\n",
       "      <td>898205</td>\n",
       "    </tr>\n",
       "    <tr>\n",
       "      <th>1</th>\n",
       "      <td>2011</td>\n",
       "      <td>Arts and Humanities</td>\n",
       "      <td>74.95</td>\n",
       "      <td>69.99</td>\n",
       "      <td>6.62</td>\n",
       "      <td>512570</td>\n",
       "    </tr>\n",
       "    <tr>\n",
       "      <th>2</th>\n",
       "      <td>2011</td>\n",
       "      <td>Business &amp; Public Admin</td>\n",
       "      <td>84.43</td>\n",
       "      <td>80.17</td>\n",
       "      <td>5.05</td>\n",
       "      <td>869455</td>\n",
       "    </tr>\n",
       "  </tbody>\n",
       "</table>\n",
       "</div>"
      ],
      "text/plain": [
       "   Census Year              Field of study  Participation rate  \\\n",
       "0         2011  Architecture & Engineering               79.82   \n",
       "1         2011         Arts and Humanities               74.95   \n",
       "2         2011     Business & Public Admin               84.43   \n",
       "\n",
       "   Employment rate  Unemployment rate  Employed (25%)  \n",
       "0            75.28               5.69          898205  \n",
       "1            69.99               6.62          512570  \n",
       "2            80.17               5.05          869455  "
      ]
     },
     "execution_count": 63,
     "metadata": {},
     "output_type": "execute_result"
    }
   ],
   "source": [
    "labour_data.head(3)"
   ]
  },
  {
   "cell_type": "code",
   "execution_count": 58,
   "id": "c43dfb2f-dfd4-492c-8aef-c6252fe5d8fa",
   "metadata": {},
   "outputs": [],
   "source": [
    "labour_data.to_csv(\"data/labour_market_snapshot.csv\", index=False)"
   ]
  },
  {
   "cell_type": "code",
   "execution_count": null,
   "id": "63416ba2-a107-4115-aec7-8e341eac370f",
   "metadata": {},
   "outputs": [],
   "source": []
  }
 ],
 "metadata": {
  "kernelspec": {
   "display_name": "Python3",
   "language": "python",
   "name": "py3"
  },
  "language_info": {
   "codemirror_mode": {
    "name": "ipython",
    "version": 3
   },
   "file_extension": ".py",
   "mimetype": "text/x-python",
   "name": "python",
   "nbconvert_exporter": "python",
   "pygments_lexer": "ipython3",
   "version": "3.9.20"
  }
 },
 "nbformat": 4,
 "nbformat_minor": 5
}
